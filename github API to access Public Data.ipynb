{
 "metadata": {
  "name": "",
  "signature": "sha256:1a79171198a528f407e17b3b70119132d816474f959abf1a9b8ce4a9a99b967b"
 },
 "nbformat": 3,
 "nbformat_minor": 0,
 "worksheets": [
  {
   "cells": [
    {
     "cell_type": "code",
     "collapsed": false,
     "input": [],
     "language": "python",
     "metadata": {},
     "outputs": []
    },
    {
     "cell_type": "code",
     "collapsed": false,
     "input": [
      "import requests\n",
      "username = \"exploreshaifali\"\n",
      "\n",
      "def get_user_info(username):\n",
      "    \"\"\" Getting basic user infos: Step 1 \n",
      "        \n",
      "        username : u'login'\n",
      "        real name: u'name'\n",
      "        gravtar : u'avatar_url' \n",
      "        numbre of public repos\n",
      "        email: u'email'\n",
      "        github url: u'url'\n",
      "    \"\"\"\n",
      "    \n",
      "    url = \"https://api.github.com/users/\"+username\n",
      "    r = requests.get(url).json()\n",
      "    \n",
      "    print('username: {username} \\n Real Name: {real_name} \\n \\\n",
      "          gravtar_url: {avatar_url} \\n email address: {email} \\n \\\n",
      "          github url: {github_url} \\n Number of Public repos: \\\n",
      "          {public_repos}'.format(username=username, real_name=r[u'name'],\n",
      "          avatar_url= r[u'avatar_url'], email= r[u'email'], github_url=r[u'url'],\n",
      "          public_repos= r[u'public_repos']))\n",
      "    \n",
      "    print('\\n\\n\\n')\n",
      "    # get user's repo info:\n",
      "    get_repos_info(username, r[u'repos_url'])\n",
      "    \n",
      "def get_repos_info(username, url):\n",
      "    \n",
      "    '''\n",
      "    Step 2\n",
      "    url = url of all public repo list.\n",
      "    \n",
      "    for each repo get:\n",
      "        name: u'name'\n",
      "        repo url :u'url', u'html_url', u'clone_url'\n",
      "        Number of contributors: u'contributors_url'\n",
      "        Number of total commits : https://api.github.com/repos/exploreshaifali/bonafidePro/commits\n",
      "        Number of commits made by given user\n",
      "        start date : u'created_at'\n",
      "        last updated date : u'updated_at'\n",
      "        number of issues, milestones\n",
      "        description: u'description'\n",
      "    '''\n",
      "    r = requests.get(url).json()\n",
      "    number_of_repo = len(r)\n",
      "    for i in range(number_of_repo):\n",
      "        commits_url = 'https://api.github.com/repos/exploreshaifali/'+r[i][u'name']+'/commits'\n",
      "        print('repo name: {name} \\n repo url {repo_url} \\n Description:{description}\\\n",
      "            \\n number of contributors: {contributors_url}\\\n",
      "            \\n total number of commits: {total_commits}\\n\\n'.format(name=r[i][u'name'],\n",
      "            repo_url=r[i][u'url'], contributors_url=get_number_of_contibutors_of_repo(r[i][u'contributors_url']),\n",
      "            total_commits=get_total_number_of_commits(commits_url),\n",
      "            description=r[i][u'description']))    \n",
      "        \n",
      "def get_number_of_contibutors_of_repo(url):\n",
      "    \"\"\" Step 2.b \"\"\"\n",
      "    r = requests.get(url).json()\n",
      "    return len(r)     \n",
      "    \n",
      "def get_total_number_of_commits(url):\n",
      "    \"\"\" Step 2.c \"\"\"\n",
      "    r = requests.get(url).json()\n",
      "    return len(r)    \n"
     ],
     "language": "python",
     "metadata": {},
     "outputs": [],
     "prompt_number": 4
    },
    {
     "cell_type": "code",
     "collapsed": false,
     "input": [
      "get_user_info(username)"
     ],
     "language": "python",
     "metadata": {},
     "outputs": [
      {
       "ename": "KeyError",
       "evalue": "u'name'",
       "output_type": "pyerr",
       "traceback": [
        "\u001b[1;31m---------------------------------------------------------------------------\u001b[0m\n\u001b[1;31mKeyError\u001b[0m                                  Traceback (most recent call last)",
        "\u001b[1;32m<ipython-input-3-54b5064c9702>\u001b[0m in \u001b[0;36m<module>\u001b[1;34m()\u001b[0m\n\u001b[1;32m----> 1\u001b[1;33m \u001b[0mget_user_info\u001b[0m\u001b[1;33m(\u001b[0m\u001b[0musername\u001b[0m\u001b[1;33m)\u001b[0m\u001b[1;33m\u001b[0m\u001b[0m\n\u001b[0m",
        "\u001b[1;32m<ipython-input-1-eaaf9518ec88>\u001b[0m in \u001b[0;36mget_user_info\u001b[1;34m(username)\u001b[0m\n\u001b[0;32m     16\u001b[0m     \u001b[0mr\u001b[0m \u001b[1;33m=\u001b[0m \u001b[0mrequests\u001b[0m\u001b[1;33m.\u001b[0m\u001b[0mget\u001b[0m\u001b[1;33m(\u001b[0m\u001b[0murl\u001b[0m\u001b[1;33m)\u001b[0m\u001b[1;33m.\u001b[0m\u001b[0mjson\u001b[0m\u001b[1;33m(\u001b[0m\u001b[1;33m)\u001b[0m\u001b[1;33m\u001b[0m\u001b[0m\n\u001b[0;32m     17\u001b[0m \u001b[1;33m\u001b[0m\u001b[0m\n\u001b[1;32m---> 18\u001b[1;33m     print('username: {username} \\n Real Name: {real_name} \\n           gravtar_url: {avatar_url} \\n email address: {email} \\n           github url: {github_url} \\n Number of Public repos:           {public_repos}'.format(username=username, real_name=r[u'name'],\n\u001b[0m\u001b[0;32m     19\u001b[0m           \u001b[0mavatar_url\u001b[0m\u001b[1;33m=\u001b[0m \u001b[0mr\u001b[0m\u001b[1;33m[\u001b[0m\u001b[1;34mu'avatar_url'\u001b[0m\u001b[1;33m]\u001b[0m\u001b[1;33m,\u001b[0m \u001b[0memail\u001b[0m\u001b[1;33m=\u001b[0m \u001b[0mr\u001b[0m\u001b[1;33m[\u001b[0m\u001b[1;34mu'email'\u001b[0m\u001b[1;33m]\u001b[0m\u001b[1;33m,\u001b[0m \u001b[0mgithub_url\u001b[0m\u001b[1;33m=\u001b[0m\u001b[0mr\u001b[0m\u001b[1;33m[\u001b[0m\u001b[1;34mu'url'\u001b[0m\u001b[1;33m]\u001b[0m\u001b[1;33m,\u001b[0m\u001b[1;33m\u001b[0m\u001b[0m\n\u001b[0;32m     20\u001b[0m           public_repos= r[u'public_repos']))\n",
        "\u001b[1;31mKeyError\u001b[0m: u'name'"
       ]
      }
     ],
     "prompt_number": 3
    },
    {
     "cell_type": "code",
     "collapsed": false,
     "input": [],
     "language": "python",
     "metadata": {},
     "outputs": []
    }
   ],
   "metadata": {}
  }
 ]
}