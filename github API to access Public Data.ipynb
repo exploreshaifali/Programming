{
 "metadata": {
  "name": "",
  "signature": "sha256:9ae8d8925a9d1138ab2da630985b7dfb638f78e2b53ac3d842bc4455fdf91918"
 },
 "nbformat": 3,
 "nbformat_minor": 0,
 "worksheets": [
  {
   "cells": [
    {
     "cell_type": "code",
     "collapsed": false,
     "input": [],
     "language": "python",
     "metadata": {},
     "outputs": []
    },
    {
     "cell_type": "code",
     "collapsed": false,
     "input": [
      "import requests\n",
      "username = \"exploreshaifali\"\n",
      "\n",
      "def get_user_info(username):\n",
      "    \"\"\" Getting basic user infos: Step 1 \n",
      "        \n",
      "        username : u'login'\n",
      "        real name: u'name'\n",
      "        gravtar : u'avatar_url' \n",
      "        numbre of public repos\n",
      "        email: u'email'\n",
      "        github url: u'url'\n",
      "    \"\"\"\n",
      "    \n",
      "    url = \"https://api.github.com/users/\"+username\n",
      "    r = requests.get(url).json()\n",
      "    \n",
      "    print('username: {username} \\n Real Name: {real_name} \\n \\\n",
      "          gravtar_url: {avatar_url} \\n email address: {email} \\n \\\n",
      "          github url: {github_url} \\n Number of Public repos: \\\n",
      "          {public_repos}'.format(username=username, real_name=r[u'name'],\n",
      "          avatar_url= r[u'avatar_url'], email= r[u'email'], github_url=r[u'url'],\n",
      "          public_repos= r[u'public_repos']))\n",
      "    \n",
      "    print('\\n\\n\\n')\n",
      "    # get user's repo info:\n",
      "    get_repos_info(username, r[u'repos_url'])\n",
      "    \n",
      "def get_repos_info(username, url):\n",
      "    \n",
      "    '''\n",
      "    Step 2\n",
      "    url = url of all public repo list.\n",
      "    \n",
      "    for each repo get:\n",
      "        name: u'name'\n",
      "        repo url :u'url', u'html_url', u'clone_url'\n",
      "        Number of contributors: u'contributors_url'\n",
      "        Number of total commits : https://api.github.com/repos/exploreshaifali/bonafidePro/commits\n",
      "        Number of commits made by given user\n",
      "        start date : u'created_at'\n",
      "        last updated date : u'updated_at'\n",
      "        number of issues, milestones\n",
      "        description: u'description'\n",
      "    '''\n",
      "    r = requests.get(url).json()\n",
      "    number_of_repo = len(r)\n",
      "    for i in range(number_of_repo):\n",
      "        print('repo name: {name} \\n repo url {repo_url} \\n Description:{description}\\\n",
      "            \\n number of contributors: {contributors_url}\\\n",
      "            \\n total number of commits: {total_commits}\\n\\n'.format(name=r[i][u'name'],\n",
      "            repo_url=r[i][u'url'], contributors_url=get_number_of_contibutors_of_repo(r[i][u'contributors_url']),\n",
      "            total_commits=get_total_number_of_commits('https://api.github.com/repos/exploreshaifali/bonafidePro/commits'),\n",
      "            description=r[i][u'description']))    \n",
      "        \n",
      "def get_number_of_contibutors_of_repo(url):\n",
      "    \"\"\" Step 2.b \"\"\"\n",
      "    r = requests.get(url).json()\n",
      "    return len(r)     \n",
      "    \n",
      "def get_total_number_of_commits(url):\n",
      "    r = requests.get(url).json()\n",
      "    return len(r)    "
     ],
     "language": "python",
     "metadata": {},
     "outputs": [],
     "prompt_number": 41
    },
    {
     "cell_type": "code",
     "collapsed": false,
     "input": [
      "get_user_info(username)"
     ],
     "language": "python",
     "metadata": {},
     "outputs": [
      {
       "output_type": "stream",
       "stream": "stdout",
       "text": [
        "username: exploreshaifali \n",
        " Real Name: Shaifali Agrawal \n",
        "           gravtar_url: https://avatars.githubusercontent.com/u/3762969?v=3 \n",
        " email address: agrawalshaifali09@gmail.com \n",
        "           github url: https://api.github.com/users/exploreshaifali \n",
        " Number of Public repos:           5\n",
        "\n",
        "\n",
        "\n",
        "\n",
        "repo name: bonafidePro \n",
        " repo url https://api.github.com/repos/exploreshaifali/bonafidePro \n",
        " Description:To automate the process of issuing bonafide certificates in IIPS.            \n",
        " number of contributors: 1            \n",
        " total number of commits: 9\n",
        "\n"
       ]
      },
      {
       "output_type": "stream",
       "stream": "stdout",
       "text": [
        "\n",
        "repo name: content \n",
        " repo url https://api.github.com/repos/exploreshaifali/content \n",
        " Description:Official content for Harvard CS109            \n",
        " number of contributors: 11            \n",
        " total number of commits: 9\n",
        "\n"
       ]
      },
      {
       "output_type": "stream",
       "stream": "stdout",
       "text": [
        "\n",
        "repo name: datasharing \n",
        " repo url https://api.github.com/repos/exploreshaifali/datasharing \n",
        " Description:The Leek group guide to data sharing             \n",
        " number of contributors: 8            \n",
        " total number of commits: 9\n",
        "\n"
       ]
      },
      {
       "output_type": "stream",
       "stream": "stdout",
       "text": [
        "\n",
        "repo name: Poll-App \n",
        " repo url https://api.github.com/repos/exploreshaifali/Poll-App \n",
        " Description:            \n",
        " number of contributors: 2            \n",
        " total number of commits: 9\n",
        "\n"
       ]
      },
      {
       "output_type": "stream",
       "stream": "stdout",
       "text": [
        "\n",
        "repo name: Programming \n",
        " repo url https://api.github.com/repos/exploreshaifali/Programming \n",
        " Description:Here I am putting my learning programs.            \n",
        " number of contributors: 1            \n",
        " total number of commits: 9\n",
        "\n"
       ]
      },
      {
       "output_type": "stream",
       "stream": "stdout",
       "text": [
        "\n"
       ]
      }
     ],
     "prompt_number": 42
    },
    {
     "cell_type": "code",
     "collapsed": false,
     "input": [],
     "language": "python",
     "metadata": {},
     "outputs": []
    }
   ],
   "metadata": {}
  }
 ]
}