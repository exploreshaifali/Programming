{
 "metadata": {
  "name": "",
  "signature": "sha256:aa372eea84c37c0c3418ebd43f4b96cb3d486ad11ed322ff6ccb5974048e10ac"
 },
 "nbformat": 3,
 "nbformat_minor": 0,
 "worksheets": [
  {
   "cells": [
    {
     "cell_type": "markdown",
     "metadata": {},
     "source": [
      "## Using github API\n",
      "\n",
      "[Github](http://github.com/) is well known web service for source code management and distributed revision control. Github API provide various HTTP methods thrught which one can access details of a contribuotr, repo, organization etc.\n",
      "\n",
      "Here I am using the same github API to know how much percentage a contributor has contributed to his repos, using number of commits. There are various [wrapper libraries](https://developer.github.com/libraries/) available in different languages to access this API, but here I am using only real github API and python request library to do the job."
     ]
    },
    {
     "cell_type": "heading",
     "level": 3,
     "metadata": {},
     "source": [
      "Getting contributors github handler"
     ]
    },
    {
     "cell_type": "code",
     "collapsed": false,
     "input": [
      "import requests\n",
      "\n",
      "username = raw_input(\"Enter github handler: \")"
     ],
     "language": "python",
     "metadata": {},
     "outputs": [
      {
       "name": "stdout",
       "output_type": "stream",
       "stream": "stdout",
       "text": [
        "Enter github handler: exploreshaifali\n"
       ]
      }
     ],
     "prompt_number": 1
    },
    {
     "cell_type": "markdown",
     "metadata": {},
     "source": [
      "### Basic Info of the contrbutor\n",
      "\n",
      "Now first lets fetch all basic infro of the contributor and print them. For this we need to make an HTTP call to url \"https://api.github.com/users/<username>\" this will return json data about user. We can use that data easily converting it into python dictonary."
     ]
    },
    {
     "cell_type": "code",
     "collapsed": false,
     "input": [
      "def get_user_info(username):\n",
      "    \"\"\" Getting basic user infos: Step 1 \n",
      "        \n",
      "        username : u'login'\n",
      "        real name: u'name'\n",
      "        gravtar : u'avatar_url' \n",
      "        numbre of public repos\n",
      "        email: u'email'\n",
      "        github url: u'url'\n",
      "    \"\"\"\n",
      "    \n",
      "    url = \"https://api.github.com/users/\"+username\n",
      "    r = requests.get(url).json()\n",
      "    \n",
      "    print('username: {username} \\n Real Name: {real_name} \\n \\\n",
      "          gravtar_url: {avatar_url} \\n email address: {email} \\n \\\n",
      "          github url: {github_url} \\n Number of Public repos: \\\n",
      "          {public_repos}'.format(username=username, real_name=r[u'name'],\n",
      "          avatar_url= r[u'avatar_url'], email= r[u'email'], github_url=r[u'url'],\n",
      "          public_repos= r[u'public_repos']))\n",
      "    \n",
      "    return r\n",
      "    "
     ],
     "language": "python",
     "metadata": {},
     "outputs": [],
     "prompt_number": 2
    },
    {
     "cell_type": "code",
     "collapsed": false,
     "input": [
      "user_info = get_user_info(username)"
     ],
     "language": "python",
     "metadata": {},
     "outputs": [
      {
       "output_type": "stream",
       "stream": "stdout",
       "text": [
        "username: exploreshaifali \n",
        " Real Name: Shaifali Agrawal \n",
        "           gravtar_url: https://avatars.githubusercontent.com/u/3762969?v=3 \n",
        " email address: agrawalshaifali09@gmail.com \n",
        "           github url: https://api.github.com/users/exploreshaifali \n",
        " Number of Public repos:           5\n"
       ]
      }
     ],
     "prompt_number": 3
    },
    {
     "cell_type": "markdown",
     "metadata": {},
     "source": [
      "## Details of public repos\n",
      "\n",
      "Now lets fetch and print details of each public repo the contriboutor have"
     ]
    },
    {
     "cell_type": "code",
     "collapsed": false,
     "input": [
      "  \n",
      "def get_repos_info(username, url):\n",
      "    \n",
      "    '''\n",
      "    Step 2\n",
      "    url = url of all public repo list.\n",
      "    \n",
      "    for each repo get:\n",
      "        name: u'name'\n",
      "        repo url :u'url', u'html_url', u'clone_url'\n",
      "        Number of contributors: u'contributors_url'\n",
      "        Number of total commits : https://api.github.com/repos/exploreshaifali/bonafidePro/commits\n",
      "        Number of commits made by given user\n",
      "        start date : u'created_at'\n",
      "        last updated date : u'updated_at'\n",
      "        number of issues, milestones\n",
      "        description: u'description'\n",
      "    '''\n",
      "    r = requests.get(url).json()\n",
      "    number_of_repo = len(r)\n",
      "    for i in range(number_of_repo):\n",
      "        commits_url = 'https://api.github.com/repos/exploreshaifali/'+r[i][u'name']+'/commits'\n",
      "        print('repo name: {name} \\n repo url {repo_url} \\n Description:{description}\\\n",
      "            \\n number of contributors: {contributors_url}\\\n",
      "            \\n total number of commits: {total_commits}\\n Commits made by {username}:\\\n",
      "            {number_of_commits_by_given_user}\\n'.format(name=r[i][u'name'],\n",
      "            repo_url=r[i][u'url'], contributors_url=get_number_of_contibutors_of_repo(r[i][u'contributors_url']),\n",
      "            total_commits=get_total_number_of_commits(commits_url),\n",
      "            description=r[i][u'description'], username=username,\n",
      "            number_of_commits_by_given_user=get_number_of_commits_made_by_given_user(commits_url, username)))    \n",
      "        \n",
      "def get_number_of_contibutors_of_repo(url):\n",
      "    \"\"\" Step 2.b \"\"\"\n",
      "    r = requests.get(url).json()\n",
      "    return len(r)     \n",
      "    \n",
      "def get_total_number_of_commits(url):\n",
      "    \"\"\" Step 2.c \"\"\"\n",
      "    r = requests.get(url).json()\n",
      "    return len(r)    \n",
      "\n",
      "def get_number_of_commits_made_by_given_user(url, username):\n",
      "    \"\"\" Step 2.d\n",
      "        url: repo commits api url\n",
      "        Return Number of commits made by a contributor in a particular repo.\n",
      "    \"\"\"\n",
      "    r = requests.get(url).json()\n",
      "   \n",
      "    number_of_commits = 0\n",
      "    for i in range(len(r)):  \n",
      "        '''\n",
      "            Though at present 'committer' key is used but many times committer and\n",
      "            author keys are none, so would be more better to get this info from 'commit' key. Need to \n",
      "            think more on how to get value using commit key.\n",
      "        '''\n",
      "        if r[i]['committer'] != None:\n",
      "            if r[i]['committer'][u'login'] == username:\n",
      "                number_of_commits += 1\n",
      "                \n",
      "    return number_of_commits\n",
      "\n",
      "# get user's repo info:\n",
      "get_repos_info(username, user_info[u'repos_url'])"
     ],
     "language": "python",
     "metadata": {},
     "outputs": [
      {
       "output_type": "stream",
       "stream": "stdout",
       "text": [
        "repo name: bonafidePro \n",
        " repo url https://api.github.com/repos/exploreshaifali/bonafidePro \n",
        " Description:To automate the process of issuing bonafide certificates in IIPS.          \n",
        " number of contributors: 1          \n",
        " total number of commits: 9\n",
        " Commits made by exploreshaifali:          8\n",
        "\n",
        "repo name: content \n",
        " repo url https://api.github.com/repos/exploreshaifali/content \n",
        " Description:Official content for Harvard CS109          \n",
        " number of contributors: 11          \n",
        " total number of commits: 30\n",
        " Commits made by exploreshaifali:          0\n"
       ]
      },
      {
       "output_type": "stream",
       "stream": "stdout",
       "text": [
        "\n",
        "repo name: datasharing \n",
        " repo url https://api.github.com/repos/exploreshaifali/datasharing \n",
        " Description:The Leek group guide to data sharing           \n",
        " number of contributors: 8          \n",
        " total number of commits: 25\n",
        " Commits made by exploreshaifali:          0\n"
       ]
      },
      {
       "output_type": "stream",
       "stream": "stdout",
       "text": [
        "\n"
       ]
      },
      {
       "ename": "KeyError",
       "evalue": "0",
       "output_type": "pyerr",
       "traceback": [
        "\u001b[1;31m---------------------------------------------------------------------------\u001b[0m\n\u001b[1;31mKeyError\u001b[0m                                  Traceback (most recent call last)",
        "\u001b[1;32m<ipython-input-5-a6cf3b48ed71>\u001b[0m in \u001b[0;36m<module>\u001b[1;34m()\u001b[0m\n\u001b[0;32m     58\u001b[0m \u001b[1;33m\u001b[0m\u001b[0m\n\u001b[0;32m     59\u001b[0m \u001b[1;31m# get user's repo info:\u001b[0m\u001b[1;33m\u001b[0m\u001b[1;33m\u001b[0m\u001b[0m\n\u001b[1;32m---> 60\u001b[1;33m \u001b[0mget_repos_info\u001b[0m\u001b[1;33m(\u001b[0m\u001b[0musername\u001b[0m\u001b[1;33m,\u001b[0m \u001b[0muser_info\u001b[0m\u001b[1;33m[\u001b[0m\u001b[1;34mu'repos_url'\u001b[0m\u001b[1;33m]\u001b[0m\u001b[1;33m)\u001b[0m\u001b[1;33m\u001b[0m\u001b[0m\n\u001b[0m",
        "\u001b[1;32m<ipython-input-5-a6cf3b48ed71>\u001b[0m in \u001b[0;36mget_repos_info\u001b[1;34m(username, url)\u001b[0m\n\u001b[0;32m     25\u001b[0m           \u001b[0mtotal_commits\u001b[0m\u001b[1;33m=\u001b[0m\u001b[0mget_total_number_of_commits\u001b[0m\u001b[1;33m(\u001b[0m\u001b[0mcommits_url\u001b[0m\u001b[1;33m)\u001b[0m\u001b[1;33m,\u001b[0m\u001b[1;33m\u001b[0m\u001b[0m\n\u001b[0;32m     26\u001b[0m           \u001b[0mdescription\u001b[0m\u001b[1;33m=\u001b[0m\u001b[0mr\u001b[0m\u001b[1;33m[\u001b[0m\u001b[0mi\u001b[0m\u001b[1;33m]\u001b[0m\u001b[1;33m[\u001b[0m\u001b[1;34mu'description'\u001b[0m\u001b[1;33m]\u001b[0m\u001b[1;33m,\u001b[0m \u001b[0musername\u001b[0m\u001b[1;33m=\u001b[0m\u001b[0musername\u001b[0m\u001b[1;33m,\u001b[0m\u001b[1;33m\u001b[0m\u001b[0m\n\u001b[1;32m---> 27\u001b[1;33m           number_of_commits_by_given_user=get_number_of_commits_made_by_given_user(commits_url, username)))    \n\u001b[0m\u001b[0;32m     28\u001b[0m \u001b[1;33m\u001b[0m\u001b[0m\n\u001b[0;32m     29\u001b[0m \u001b[1;32mdef\u001b[0m \u001b[0mget_number_of_contibutors_of_repo\u001b[0m\u001b[1;33m(\u001b[0m\u001b[0murl\u001b[0m\u001b[1;33m)\u001b[0m\u001b[1;33m:\u001b[0m\u001b[1;33m\u001b[0m\u001b[0m\n",
        "\u001b[1;32m<ipython-input-5-a6cf3b48ed71>\u001b[0m in \u001b[0;36mget_number_of_commits_made_by_given_user\u001b[1;34m(url, username)\u001b[0m\n\u001b[0;32m     51\u001b[0m           \u001b[0mthink\u001b[0m \u001b[0mmore\u001b[0m \u001b[0mon\u001b[0m \u001b[0mhow\u001b[0m \u001b[0mto\u001b[0m \u001b[0mget\u001b[0m \u001b[0mvalue\u001b[0m \u001b[0musing\u001b[0m \u001b[0mcommit\u001b[0m \u001b[0mkey\u001b[0m\u001b[1;33m.\u001b[0m\u001b[1;33m\u001b[0m\u001b[0m\n\u001b[0;32m     52\u001b[0m       '''\n\u001b[1;32m---> 53\u001b[1;33m       \u001b[1;32mif\u001b[0m \u001b[0mr\u001b[0m\u001b[1;33m[\u001b[0m\u001b[0mi\u001b[0m\u001b[1;33m]\u001b[0m\u001b[1;33m[\u001b[0m\u001b[1;34m'committer'\u001b[0m\u001b[1;33m]\u001b[0m \u001b[1;33m!=\u001b[0m \u001b[0mNone\u001b[0m\u001b[1;33m:\u001b[0m\u001b[1;33m\u001b[0m\u001b[0m\n\u001b[0m\u001b[0;32m     54\u001b[0m           \u001b[1;32mif\u001b[0m \u001b[0mr\u001b[0m\u001b[1;33m[\u001b[0m\u001b[0mi\u001b[0m\u001b[1;33m]\u001b[0m\u001b[1;33m[\u001b[0m\u001b[1;34m'committer'\u001b[0m\u001b[1;33m]\u001b[0m\u001b[1;33m[\u001b[0m\u001b[1;34mu'login'\u001b[0m\u001b[1;33m]\u001b[0m \u001b[1;33m==\u001b[0m \u001b[0musername\u001b[0m\u001b[1;33m:\u001b[0m\u001b[1;33m\u001b[0m\u001b[0m\n\u001b[0;32m     55\u001b[0m               \u001b[0mnumber_of_commits\u001b[0m \u001b[1;33m+=\u001b[0m \u001b[1;36m1\u001b[0m\u001b[1;33m\u001b[0m\u001b[0m\n",
        "\u001b[1;31mKeyError\u001b[0m: 0"
       ]
      }
     ],
     "prompt_number": 5
    },
    {
     "cell_type": "code",
     "collapsed": false,
     "input": [],
     "language": "python",
     "metadata": {},
     "outputs": []
    }
   ],
   "metadata": {}
  }
 ]
}