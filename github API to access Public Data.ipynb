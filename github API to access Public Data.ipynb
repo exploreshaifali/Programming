{
 "metadata": {
  "name": "",
  "signature": "sha256:baa2b801fd65c9b49c2c0b0ae7bd2c6247d5ee002f7b2dc03a7335da12496a97"
 },
 "nbformat": 3,
 "nbformat_minor": 0,
 "worksheets": [
  {
   "cells": [
    {
     "cell_type": "markdown",
     "metadata": {},
     "source": [
      "## Using github API\n",
      "\n",
      "[Github](http://github.com/) is well known web service for source code management and distributed revision control. Github API provide various HTTP methods thrught which one can access details of a contribuotr, repo, organization etc.\n",
      "\n",
      "Here I am using the same github API to know how much percentage a contributor has contributed to his repos, using number of commits. There are various [wrapper libraries](https://developer.github.com/libraries/) available in different languages to access this API, but here I am using only real github API and python request library to do the job."
     ]
    },
    {
     "cell_type": "heading",
     "level": 3,
     "metadata": {},
     "source": [
      "Getting contributors github handler"
     ]
    },
    {
     "cell_type": "code",
     "collapsed": false,
     "input": [
      "import requests\n",
      "\n",
      "username = raw_input(\"Enter github handler: \")"
     ],
     "language": "python",
     "metadata": {},
     "outputs": [
      {
       "name": "stdout",
       "output_type": "stream",
       "stream": "stdout",
       "text": [
        "Enter github handler: exploreshaifali\n"
       ]
      }
     ],
     "prompt_number": 2
    },
    {
     "cell_type": "markdown",
     "metadata": {},
     "source": [
      "### Basic Info of the contrbutor\n",
      "\n",
      "Now first lets fetch all basic infro of the contributor and print them. For this we need to make an HTTP call to url \"https://api.github.com/users/<username>\" this will return json data about user. We can use that data easily converting it into python dictonary."
     ]
    },
    {
     "cell_type": "code",
     "collapsed": false,
     "input": [
      "def get_user_info(username):\n",
      "    \"\"\" Getting basic user infos: Step 1 \n",
      "        \n",
      "        username : u'login'\n",
      "        real name: u'name'\n",
      "        gravtar : u'avatar_url' \n",
      "        numbre of public repos\n",
      "        email: u'email'\n",
      "        github url: u'url'\n",
      "    \"\"\"\n",
      "    \n",
      "    url = \"https://api.github.com/users/\"+username\n",
      "    r = requests.get(url).json()\n",
      "    \n",
      "    print('username: {username} \\n Real Name: {real_name} \\n \\\n",
      "          gravtar_url: {avatar_url} \\n email address: {email} \\n \\\n",
      "          github url: {github_url} \\n Number of Public repos: \\\n",
      "          {public_repos}'.format(username=username, real_name=r[u'name'],\n",
      "          avatar_url= r[u'avatar_url'], email= r[u'email'], github_url=r[u'url'],\n",
      "          public_repos= r[u'public_repos']))\n",
      "    \n",
      "    return r\n",
      "    "
     ],
     "language": "python",
     "metadata": {},
     "outputs": [],
     "prompt_number": 3
    },
    {
     "cell_type": "code",
     "collapsed": false,
     "input": [
      "user_info = get_user_info(username)"
     ],
     "language": "python",
     "metadata": {},
     "outputs": [
      {
       "output_type": "stream",
       "stream": "stdout",
       "text": [
        "username: exploreshaifali \n",
        " Real Name: Shaifali Agrawal \n",
        "           gravtar_url: https://avatars.githubusercontent.com/u/3762969?v=3 \n",
        " email address: agrawalshaifali09@gmail.com \n",
        "           github url: https://api.github.com/users/exploreshaifali \n",
        " Number of Public repos:           5\n"
       ]
      }
     ],
     "prompt_number": 4
    },
    {
     "cell_type": "markdown",
     "metadata": {},
     "source": [
      "## Details of public repos\n",
      "\n",
      "Now lets fetch and print details of each public repo the contriboutor have"
     ]
    },
    {
     "cell_type": "code",
     "collapsed": false,
     "input": [
      "  \n",
      "def get_repos_info(username, url):\n",
      "    \n",
      "    '''\n",
      "    Step 2\n",
      "    url = url of all public repo list.\n",
      "    \n",
      "    for each repo get:\n",
      "        name: u'name'\n",
      "        repo url :u'url', u'html_url', u'clone_url'\n",
      "        Number of contributors: u'contributors_url'\n",
      "        Number of total commits : https://api.github.com/repos/exploreshaifali/bonafidePro/commits\n",
      "        Number of commits made by given user\n",
      "        start date : u'created_at'\n",
      "        last updated date : u'updated_at'\n",
      "        number of issues, milestones\n",
      "        description: u'description'\n",
      "    '''\n",
      "    r = requests.get(url).json()\n",
      "    number_of_repo = len(r)\n",
      "    for i in range(number_of_repo):\n",
      "        _repo_name = r[i][u'name']\n",
      "        _repo_url = r[i][u'url']\n",
      "        _repo_description = r[i][u'description']\n",
      "        _number_of_contributors = get_number_of_contibutors_of_repo(r[i][u'contributors_url'])\n",
      "        \n",
      "        _commits_url = _repo_url+'/commits'\n",
      "        _total_commits = get_total_number_of_commits(_commits_url)\n",
      "        _commits_by_given_user = get_number_of_commits_made_by_given_user(_commits_url, username)\n",
      "        \n",
      "        _issues_url = _repo_url+'/issues'\n",
      "        _issues = get_total_issues_by_user_in_a_repo(username, _issues_url)\n",
      "        \n",
      "               \n",
      "        print('repo name: {name} \\n repo url {repo_url} \\n Description:{description}\\\n",
      "            \\n number of contributors: {number_of_contributors}\\\n",
      "            \\n total number of commits: {total_commits}\\n Commits made by {username}:\\\n",
      "            {number_of_commits_by_given_user}\\n issues: {issues}\\n'.format(name=_repo_name,\n",
      "            repo_url=_repo_url, number_of_contributors=_number_of_contributors,\n",
      "            total_commits=_total_commits,\n",
      "            description=_repo_description, username=username,\n",
      "            number_of_commits_by_given_user=_commits_by_given_user,\n",
      "            issues=_issues))    \n",
      "        \n",
      "def get_number_of_contibutors_of_repo(url):\n",
      "    \"\"\" Step 2.b \"\"\"\n",
      "    r = requests.get(url).json()\n",
      "    return len(r)     \n",
      "    \n",
      "def get_total_number_of_commits(url):\n",
      "    \"\"\" Step 2.c \"\"\"\n",
      "    r = requests.get(url).json()\n",
      "    return len(r)    \n",
      "\n",
      "def get_number_of_commits_made_by_given_user(url, username):\n",
      "    \"\"\" Step 2.d\n",
      "        url: repo commits api url\n",
      "        Return Number of commits made by a contributor in a particular repo.\n",
      "    \"\"\"\n",
      "    r = requests.get(url).json()\n",
      "   \n",
      "    number_of_commits = 0\n",
      "    for i in range(len(r)):  \n",
      "        '''\n",
      "            Though at present 'committer' key is used but many times committer and\n",
      "            author keys are none, so would be more better to get this info from 'commit' key. Need to \n",
      "            think more on how to get value using commit key.\n",
      "        '''\n",
      "        if r[i]['committer'] != None:\n",
      "            if r[i]['committer'][u'login'] == username:\n",
      "                number_of_commits += 1\n",
      "                \n",
      "    return number_of_commits\n",
      "\n",
      "#get issues for given repo and given username\n",
      "def get_total_issues_by_user_in_a_repo(username, url):\n",
      "    \"\"\" return dict{'total_issues': value,\n",
      "        'issues_created_by_given_user': value}\n",
      "        \n",
      "        :param username: github handler\n",
      "        :param url: url of repo\n",
      "    \"\"\"\n",
      "    r = requests.get(url).json()\n",
      "    total_issues = len(r)\n",
      "    issues_created_by_given_user = 0\n",
      "    total_open_issues=0\n",
      "    user_open_issues=0\n",
      "    for issue in r:\n",
      "        if issue[u'user'][u'login'] == username:\n",
      "            issues_created_by_given_user += 1 \n",
      "            if issue[u'state'] == 'open':\n",
      "                user_open_issues += 1 \n",
      "        if issue[u'state'] == 'open':\n",
      "            total_open_issues += 1 \n",
      "    _dict = {'total_issues':total_issues, 'issues_created_by_given_user':issues_created_by_given_user,\n",
      "             'total_open_issues':total_open_issues, 'user_open_issues':user_open_issues}\n",
      "    return _dict\n",
      "\n",
      "# get user's repo info:\n",
      "get_repos_info(username, user_info[u'repos_url'])\n",
      "print(\"Done!!!\")"
     ],
     "language": "python",
     "metadata": {},
     "outputs": [
      {
       "output_type": "stream",
       "stream": "stdout",
       "text": [
        "repo name: bonafidePro \n",
        " repo url https://api.github.com/repos/exploreshaifali/bonafidePro \n",
        " Description:To automate the process of issuing bonafide certificates in IIPS.          \n",
        " number of contributors: 1          \n",
        " total number of commits: 9\n",
        " Commits made by exploreshaifali:          8\n",
        " issues: {'total_issues': 0, 'user_open_issues': 0, 'issues_created_by_given_user': 0, 'total_open_issues': 0}\n",
        "\n",
        "repo name: content \n",
        " repo url https://api.github.com/repos/exploreshaifali/content \n",
        " Description:Official content for Harvard CS109          \n",
        " number of contributors: 11          \n",
        " total number of commits: 30\n",
        " Commits made by exploreshaifali:          0\n",
        " issues: {'total_issues': 0, 'user_open_issues': 0, 'issues_created_by_given_user': 0, 'total_open_issues': 0}\n"
       ]
      },
      {
       "output_type": "stream",
       "stream": "stdout",
       "text": [
        "\n",
        "repo name: datasharing \n",
        " repo url https://api.github.com/repos/exploreshaifali/datasharing \n",
        " Description:The Leek group guide to data sharing           \n",
        " number of contributors: 8          \n",
        " total number of commits: 25\n",
        " Commits made by exploreshaifali:          0\n",
        " issues: {'total_issues': 0, 'user_open_issues': 0, 'issues_created_by_given_user': 0, 'total_open_issues': 0}\n"
       ]
      },
      {
       "output_type": "stream",
       "stream": "stdout",
       "text": [
        "\n",
        "repo name: Poll-App \n",
        " repo url https://api.github.com/repos/exploreshaifali/Poll-App \n",
        " Description:          \n",
        " number of contributors: 2          \n",
        " total number of commits: 30\n",
        " Commits made by exploreshaifali:          30\n",
        " issues: {'total_issues': 0, 'user_open_issues': 0, 'issues_created_by_given_user': 0, 'total_open_issues': 0}\n"
       ]
      },
      {
       "output_type": "stream",
       "stream": "stdout",
       "text": [
        "\n",
        "repo name: Programming \n",
        " repo url https://api.github.com/repos/exploreshaifali/Programming \n",
        " Description:Here I am putting my learning programs.          \n",
        " number of contributors: 1          \n",
        " total number of commits: 26\n",
        " Commits made by exploreshaifali:          26\n",
        " issues: {'total_issues': 0, 'user_open_issues': 0, 'issues_created_by_given_user': 0, 'total_open_issues': 0}\n"
       ]
      },
      {
       "output_type": "stream",
       "stream": "stdout",
       "text": [
        "\n"
       ]
      }
     ],
     "prompt_number": 6
    },
    {
     "cell_type": "code",
     "collapsed": false,
     "input": [],
     "language": "python",
     "metadata": {},
     "outputs": []
    }
   ],
   "metadata": {}
  }
 ]
}