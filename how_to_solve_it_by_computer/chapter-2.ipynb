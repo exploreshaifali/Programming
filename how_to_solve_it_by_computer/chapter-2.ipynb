{
 "metadata": {
  "name": ""
 },
 "nbformat": 3,
 "nbformat_minor": 0,
 "worksheets": [
  {
   "cells": [
    {
     "cell_type": "heading",
     "level": 1,
     "metadata": {},
     "source": [
      "Book **How to Solve it by Computer - R.G. Dromey** Chapter-2 Python Solutions"
     ]
    },
    {
     "cell_type": "markdown",
     "metadata": {},
     "source": [
      "2.1 Exchanging the values of two variables (Algorithm)"
     ]
    },
    {
     "cell_type": "code",
     "collapsed": false,
     "input": [
      "a, b = 3, 5\n",
      "t = a #saving original value of 'a' in a tremporary variable 't'\n",
      "a = b\n",
      "b = t\n",
      "\n",
      "print a,b"
     ],
     "language": "python",
     "metadata": {},
     "outputs": [
      {
       "output_type": "stream",
       "stream": "stdout",
       "text": [
        "5 3\n"
       ]
      }
     ],
     "prompt_number": 5
    },
    {
     "cell_type": "markdown",
     "metadata": {},
     "source": [
      "2.1.2 Algithm to exchange the value of 3 variale: a->b->c->a"
     ]
    },
    {
     "cell_type": "code",
     "collapsed": false,
     "input": [
      "a,b,c = 1,2,3\n",
      "\n",
      "t = a # saving value of 'a' in a temporary variable 't'\n",
      "a = c\n",
      "c=b\n",
      "b=t\n",
      "\n",
      "print a,b,c"
     ],
     "language": "python",
     "metadata": {},
     "outputs": [
      {
       "output_type": "stream",
       "stream": "stdout",
       "text": [
        "3 1 2\n"
       ]
      }
     ],
     "prompt_number": 7
    },
    {
     "cell_type": "code",
     "collapsed": false,
     "input": [],
     "language": "python",
     "metadata": {},
     "outputs": []
    }
   ],
   "metadata": {}
  }
 ]
}