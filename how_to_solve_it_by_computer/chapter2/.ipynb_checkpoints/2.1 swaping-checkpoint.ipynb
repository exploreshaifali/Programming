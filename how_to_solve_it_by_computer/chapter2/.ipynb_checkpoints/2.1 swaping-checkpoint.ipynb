{
 "metadata": {
  "name": ""
 },
 "nbformat": 3,
 "nbformat_minor": 0,
 "worksheets": [
  {
   "cells": [
    {
     "cell_type": "heading",
     "level": 1,
     "metadata": {},
     "source": [
      "Book **How to Solve it by Computer - R.G. Dromey** Chapter-2 Python Solutions"
     ]
    },
    {
     "cell_type": "heading",
     "level": 3,
     "metadata": {},
     "source": [
      "2.1 Exchanging the values of two variables (Algorithm)"
     ]
    },
    {
     "cell_type": "code",
     "collapsed": false,
     "input": [
      "a, b = 3, 5 #intial values of a and b\n",
      "\n",
      "def exchange(a, b):\n",
      "    print 'value of a,b before exchanging values: ',a,b\n",
      "    t = a #saving original value of 'a' in a tremporary variable 't'\n",
      "    a = b\n",
      "    b = t\n",
      "    print 'value of a,b after exchanging values:  ',a,b\n",
      "\n",
      "exchange(a,b)"
     ],
     "language": "python",
     "metadata": {},
     "outputs": [
      {
       "output_type": "stream",
       "stream": "stdout",
       "text": [
        "value of a,b before exchanging values:  3 5\n",
        "value of a,b after exchanging values:   5 3\n"
       ]
      }
     ],
     "prompt_number": 17
    },
    {
     "cell_type": "heading",
     "level": 3,
     "metadata": {},
     "source": [
      "2.1.2 Algithm to exchange the value of 3 variale: a->b->c->a"
     ]
    },
    {
     "cell_type": "code",
     "collapsed": false,
     "input": [
      "a,b,c = 1,2,3\n",
      "\n",
      "t = a # saving value of 'a' in a temporary variable 't'\n",
      "a = c\n",
      "c = b\n",
      "b = t\n",
      "\n",
      "print a,b,c"
     ],
     "language": "python",
     "metadata": {},
     "outputs": [
      {
       "output_type": "stream",
       "stream": "stdout",
       "text": [
        "3 1 2\n"
       ]
      }
     ],
     "prompt_number": 14
    },
    {
     "cell_type": "heading",
     "level": 3,
     "metadata": {},
     "source": [
      "2.1.3 Algithm to exchange the value of 4 variale: a<-b<-c<-d<-a"
     ]
    },
    {
     "cell_type": "code",
     "collapsed": false,
     "input": [
      "a,b,c,d = 'a', 'b', 'c', 'd'\n",
      "\n",
      "t = a #saving value of 'a' in a temporary variable 't'\n",
      "a = b\n",
      "b = c\n",
      "c = d\n",
      "d = t\n",
      "\n",
      "print 'value of a,b,c,d after exchanging values: ',a,b,c,d\n"
     ],
     "language": "python",
     "metadata": {},
     "outputs": [
      {
       "output_type": "stream",
       "stream": "stdout",
       "text": [
        "value of a,b,c,d after exchanging values:  b c d a\n"
       ]
      }
     ],
     "prompt_number": 15
    },
    {
     "cell_type": "heading",
     "level": 3,
     "metadata": {},
     "source": [
      "2.1.4 Given two **integer** type variables, without using any third temporary variable exchange their values."
     ]
    },
    {
     "cell_type": "code",
     "collapsed": false,
     "input": [
      "a,b = 1,2 #two intial integer variales\n",
      "\n",
      "def exchange_without_temporary_variables(a,b):\n",
      "    print 'value of a,b before exchanging values: ',a,b\n",
      "    a = a+b\n",
      "    b = a-b # means b = (a+b)-b => a\n",
      "    a = a-b # means a = (a+b)-a => b\n",
      "    print 'value of a,b after exchanging values:  ',a,b\n",
      "    \n",
      "exchange_without_temporary_variables(a,b)"
     ],
     "language": "python",
     "metadata": {},
     "outputs": [
      {
       "output_type": "stream",
       "stream": "stdout",
       "text": [
        "value of a,b before exchanging values:  1 2\n",
        "value of a,b after exchanging values:   2 1\n"
       ]
      }
     ],
     "prompt_number": 11
    },
    {
     "cell_type": "heading",
     "level": 3,
     "metadata": {},
     "source": [
      "2.1.5 Arguments given to procedure exchange are i and a[i]."
     ]
    },
    {
     "cell_type": "code",
     "collapsed": false,
     "input": [
      "a = [1,2,3]\n",
      "exchange(0, a[0])\n",
      "exchange(2, a[2]) #work's fine when 'i' is a valid index of a"
     ],
     "language": "python",
     "metadata": {},
     "outputs": [
      {
       "output_type": "stream",
       "stream": "stdout",
       "text": [
        "value of a,b before exchanging values:  0 1\n",
        "value of a,b after exchanging values:   1 0\n",
        "value of a,b before exchanging values:  2 3\n",
        "value of a,b after exchanging values:   3 2\n"
       ]
      }
     ],
     "prompt_number": 24
    }
   ],
   "metadata": {}
  }
 ]
}