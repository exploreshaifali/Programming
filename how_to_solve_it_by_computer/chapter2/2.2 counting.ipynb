{
 "metadata": {
  "name": ""
 },
 "nbformat": 3,
 "nbformat_minor": 0,
 "worksheets": [
  {
   "cells": [
    {
     "cell_type": "heading",
     "level": 1,
     "metadata": {},
     "source": [
      "How to Solve it by Computer-R.G. Dromey Solutions "
     ]
    },
    {
     "cell_type": "heading",
     "level": 2,
     "metadata": {},
     "source": [
      "2.2 Counting"
     ]
    },
    {
     "cell_type": "markdown",
     "metadata": {},
     "source": [
      "2.2 Given n students' examination marks(0 to 100), make count of passed(those who are awarded 50 or above) students."
     ]
    },
    {
     "cell_type": "code",
     "collapsed": false,
     "input": [
      "#Interactive version\n",
      "def count_pass_students():\n",
      "    '''\n",
      "    count_pass_students function returns number of students who are passed, \n",
      "    that is who scored more than or equal to 50.\n",
      "    Eg:\n",
      "        count_pass_student() \n",
      "        Enter total number of marks to be processed: 3\n",
      "        Enter mark of 1th student56\n",
      "        Enter mark of 2th student56\n",
      "        Enter mark of 3th student56\n",
      "        Number of students passed : 3\n",
      "    '''\n",
      "    PASS_MARKS = 50    \n",
      "    try:\n",
      "        n = int(input(\"Enter total number of marks to be processed: \")) #reading number of marks to be pocessed\n",
      "        assert n >= 0, \"Marks to be processed should be greater than zero!\"\n",
      "        count, i = 0, 1 # intially counter count is 0 and increase as we will process through passed students\n",
      "        while(i <=n):            \n",
      "            try:\n",
      "                m = int(input(\"Enter mark of {0}th student \".format(i)))\n",
      "                i += 1\n",
      "                if(m >= PASS_MARKS):\n",
      "                    count += 1\n",
      "            except ValueError:\n",
      "                print \"Oops! It dosen't seem to be a number, Try again.\"\n",
      "        print \"Number of students passed:\",count\n",
      "    except (ValueError, NameError):\n",
      "        print \"Oops! It dosen't seem to be a number, Try again.\"\n",
      "        return\n",
      "    \n",
      "\n",
      "count_pass_students()  "
     ],
     "language": "python",
     "metadata": {},
     "outputs": [
      {
       "name": "stdout",
       "output_type": "stream",
       "stream": "stdout",
       "text": [
        "Enter total number of marks to be processed: 3\n"
       ]
      },
      {
       "name": "stdout",
       "output_type": "stream",
       "stream": "stdout",
       "text": [
        "Enter mark of 1th student 56\n"
       ]
      },
      {
       "name": "stdout",
       "output_type": "stream",
       "stream": "stdout",
       "text": [
        "Enter mark of 2th student 56\n"
       ]
      },
      {
       "name": "stdout",
       "output_type": "stream",
       "stream": "stdout",
       "text": [
        "Enter mark of 3th student 56\n"
       ]
      },
      {
       "output_type": "stream",
       "stream": "stdout",
       "text": [
        "Number of students passed: 3\n"
       ]
      }
     ],
     "prompt_number": 50
    },
    {
     "cell_type": "code",
     "collapsed": false,
     "input": [
      "# non-interactive version\n",
      "def count_pass_students(marks):\n",
      "    '''\n",
      "    count_pass_students function accepts a list or an integer array 'marks' which is list of marks of n students.\n",
      "    It returns number of students who are passed, that is who scored more than or equal to 50.\n",
      "    Eg: \n",
      "        count_pass_student([20, 50, 60,90, 40, 30, 70]) ==> 4 \n",
      "        #because out of 7 students' marks their are only 4 who scored <= 50.\n",
      "        \n",
      "        count_pass_students([30, 30, 50, 60, 90]) ==> 5\n",
      "        \n",
      "    '''\n",
      "    PASS_MARKS = 50   \n",
      "    MAX_MARKS = 100\n",
      "    try:\n",
      "        #checking input is either a list or an int array or not\n",
      "        if not (type(marks) == list or\n",
      "            ((type(a) ==  array.array) and (a.typecode == 'i' or a.typecode == 'I'))):\n",
      "            raise ValueError #raising exception if input is not as per desired priscriptions    \n",
      "        count = 0            #intially counter count is 0 and increase as we will process through passed students\n",
      "        for i in marks:      #looping through all the marks \n",
      "            if MAX_MARKS >= i >= PASS_MARKS:\n",
      "                count += 1   #increasing value of count by 1 if current mark is >= PASS_MARK\n",
      "        print count          #Printing total passed students. \n",
      "    except (ValueError, NameError):\n",
      "        print \"Oops! argument passed dosen't seem to be a list or an int array, Try again.\"\n",
      "        return\n",
      "\n",
      "#checking above function for list inputs.\n",
      "count_pass_students([20, 50, 60,90, 40, 30, 70])  \n",
      "count_pass_students([30, 30, 50, 60, 90])\n",
      "\n",
      "#Checking for integer array as input\n",
      "import array\n",
      "count_pass_students(array.array('i', [100,60,3]))"
     ],
     "language": "python",
     "metadata": {},
     "outputs": [
      {
       "output_type": "stream",
       "stream": "stdout",
       "text": [
        "4\n",
        "3\n",
        "2\n"
       ]
      }
     ],
     "prompt_number": 48
    },
    {
     "cell_type": "markdown",
     "metadata": {},
     "source": [
      "2.2.1 Marks are read till end of file and calculate number of marks, passes, percentage pass rate."
     ]
    },
    {
     "cell_type": "code",
     "collapsed": false,
     "input": [
      "def count_pass_student_from_file(file_name):\n",
      "    '''\n",
      "    This function accepts a file name or path to file which contain comma separated marks of different students"
     ],
     "language": "python",
     "metadata": {},
     "outputs": []
    }
   ],
   "metadata": {}
  }
 ]
}