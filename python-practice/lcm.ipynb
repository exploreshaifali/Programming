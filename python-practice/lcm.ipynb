{
 "metadata": {
  "name": "",
  "signature": "sha256:9173fa0ef73e047835ec28c392e66bc4b633bd80a3e32f586d0c3a358e9301c8"
 },
 "nbformat": 3,
 "nbformat_minor": 0,
 "worksheets": [
  {
   "cells": [
    {
     "cell_type": "code",
     "collapsed": false,
     "input": [
      "def lcm(a,b):\n",
      "    \"\"\"Find LCM of given arguments.\n",
      "\n",
      "        Returns integer.\"\"\"\n",
      "    i = 1\n",
      "    l = [1]\n",
      "    m = min(a,b)\n",
      "    while ((a != 1) and (b != 1)) or (i == m):\n",
      "        print(\"In for loop\", i, a, b)\n",
      "        i += 1\n",
      "        if (a%i == 0) and (b%i == 0):\n",
      "            a = a/i\n",
      "            b = b/i\n",
      "            l.append(i)\n",
      "            print(i,a,b,l)\n",
      "            i = 1\n",
      "        else:\n",
      "            if a%i == 0:\n",
      "                a = a/i\n",
      "                l.append(i)\n",
      "                print(i,a,b,l)\n",
      "                i = 1\n",
      "            if b%i == 0:\n",
      "                b = b/i\n",
      "                l.append(i)\n",
      "                print(i,a,b,l)\n",
      "                i = 1\n",
      "    if (a == 1) and (b == 1):\n",
      "        return reduce(lambda x, y: x*y, l)\n",
      "    else:\n",
      "        print(\"just in one shot\")\n",
      "        return reduce(lambda x, y: x*y, l)*a*b\n",
      "\n"
     ],
     "language": "python",
     "metadata": {},
     "outputs": [],
     "prompt_number": 1
    },
    {
     "cell_type": "code",
     "collapsed": false,
     "input": [
      "print(lcm(121,11))"
     ],
     "language": "python",
     "metadata": {},
     "outputs": [
      {
       "output_type": "stream",
       "stream": "stdout",
       "text": [
        "('In for loop', 1, 121, 11)\n",
        "('In for loop', 2, 121, 11)\n",
        "('In for loop', 3, 121, 11)\n",
        "('In for loop', 4, 121, 11)\n",
        "('In for loop', 5, 121, 11)\n",
        "('In for loop', 6, 121, 11)\n",
        "('In for loop', 7, 121, 11)\n",
        "('In for loop', 8, 121, 11)\n",
        "('In for loop', 9, 121, 11)\n",
        "('In for loop', 10, 121, 11)\n",
        "(11, 11, 1, [1, 11])\n",
        "just in one shot\n",
        "121\n"
       ]
      }
     ],
     "prompt_number": 2
    },
    {
     "cell_type": "code",
     "collapsed": false,
     "input": [],
     "language": "python",
     "metadata": {},
     "outputs": []
    }
   ],
   "metadata": {}
  }
 ]
}