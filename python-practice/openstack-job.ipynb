{
 "metadata": {
  "name": "",
  "signature": "sha256:b9df181b79f2c173dbefce904628786920e5e2f86d395f17f76dfc733a24dae0"
 },
 "nbformat": 3,
 "nbformat_minor": 0,
 "worksheets": [
  {
   "cells": [
    {
     "cell_type": "heading",
     "level": 3,
     "metadata": {},
     "source": [
      "Scraping Job openings for OpenStack at \"https://www.openstack.org/community/jobs/\""
     ]
    },
    {
     "cell_type": "code",
     "collapsed": false,
     "input": [
      "import csv\n",
      "from pattern import web\n",
      "\n",
      "def get_html(url):\n",
      "    \"\"\" Fetch the html code from given url\n",
      "        Returns ???\n",
      "    \"\"\"\n",
      "    html = web.URL(url, method='GET')\n",
      "    html_doc = html.download()\n",
      "    \n",
      "    jobs = {}\n",
      "    text = html_doc.split('Job Title:')\n",
      "    text = text[1:]\n",
      "    # print(len(text)) # 194\n",
      "    #print(text[0])\n",
      "    i = 0\n",
      "    for part in text:\n",
      "        i += 1\n",
      "        jobs[i] = {}\n",
      "        \n",
      "        part = part[part.find(\"jobTitle\")+10 : ]\n",
      "        #print(part)\n",
      "        \n",
      "        jobs[i]['title'] = part[: part.find('</a>')].strip()\n",
      "        \n",
      "        jobs[i]['company'] = part[part.find(\"<strong>\")+8 : part.find(\"</strong>\")].strip()\n",
      "        \n",
      "        mid = part.split(\"Location\")\n",
      "        if len(mid) <= 2:\n",
      "            part = mid[-1]\n",
      "        else:\n",
      "            part = mid[1]\n",
      "        a = part.find(\"/span>\")+6\n",
      "        b = part.find(\"<BR>\")\n",
      "        if b <= a:\n",
      "            b = part.find(\"</li>\")\n",
      "        jobs[i]['location'] = part[a : b].strip()\n",
      "            \n",
      "        #print title, location, company\n",
      "        part = part.split(\"jobDescription\")[-1]\n",
      "        dom = web.Element(part)\n",
      "        jd = ''\n",
      "        for lil_part in dom.by_tag(\"span\"):\n",
      "            x = lil_part.content\n",
      "            #print(x)\n",
      "            if x.find(\"<span\") >= 0:\n",
      "                #print(\"Inside @@@@@@@\")\n",
      "                continue\n",
      "            jd += x.strip()\n",
      "        jobs[i]['jd'] = jd.encode('ascii','ignore')\n",
      "     \n",
      "        job_page = part[part.find('/community/jobs/view/') : part.find('\">Link Directly to This Job')]\n",
      "        jobs[i]['job_page'] = \"https://www.openstack.org\"+job_page\n",
      "    return jobs\n",
      "    \n",
      "if __name__ == \"__main__\":\n",
      "    data = get_html(\"https://www.openstack.org/community/jobs/\")\n",
      "    i = 0\n",
      "    with open('openstack-job.csv', 'wa') as csvfile:\n",
      "        filewriter = csv.writer(csvfile, delimiter='\\t',\n",
      "                            quotechar='|', quoting=csv.QUOTE_MINIMAL)\n",
      "        filewriter.writerow(['Title', 'Company',  'Location', 'Job Description', 'Job Page'])\n",
      "        for job in data:\n",
      "            #print data[job]\n",
      "            filewriter.writerow([data[job]['title'], data[job]['company'], data[job]['location'],\n",
      "                                 data[job]['jd'], data[job]['job_page']])\n",
      "\n",
      "    print(\"Done!!!\")\n",
      "        "
     ],
     "language": "python",
     "metadata": {},
     "outputs": [
      {
       "output_type": "stream",
       "stream": "stdout",
       "text": [
        "Done!!!\n"
       ]
      }
     ],
     "prompt_number": 77
    },
    {
     "cell_type": "code",
     "collapsed": false,
     "input": [],
     "language": "python",
     "metadata": {},
     "outputs": []
    }
   ],
   "metadata": {}
  }
 ]
}