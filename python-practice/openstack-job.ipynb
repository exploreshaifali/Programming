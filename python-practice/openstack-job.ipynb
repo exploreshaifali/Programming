{
 "metadata": {
  "name": "",
  "signature": "sha256:daa2a2c7239cfda123001460e2ae6996aefa0c6c6edfbd0d04fd1c51380ad7f2"
 },
 "nbformat": 3,
 "nbformat_minor": 0,
 "worksheets": [
  {
   "cells": [
    {
     "cell_type": "heading",
     "level": 3,
     "metadata": {},
     "source": [
      "Scraping Job openings for OpenStack at \"https://www.openstack.org/community/jobs/\""
     ]
    },
    {
     "cell_type": "code",
     "collapsed": false,
     "input": [
      "import csv\n",
      "from pattern import web\n",
      "\n",
      "def get_html(url):\n",
      "    \"\"\" Fetch the html code from given url\n",
      "        Returns ???\n",
      "    \"\"\"\n",
      "    html = web.URL(url, method='GET')\n",
      "    html_doc = html.download()\n",
      "    \n",
      "    jobs = {}\n",
      "    text = html_doc.split('Job Title:')\n",
      "    text = text[1:]\n",
      "    # print(len(text)) # 194\n",
      "    #print(text[0])\n",
      "    i = 0\n",
      "    for part in text:\n",
      "        i += 1\n",
      "        jobs[i] = {}\n",
      "        part = part[part.find(\"jobTitle\")+10 : ]\n",
      "        #print(part)\n",
      "        jobs[i]['title'] = part[: part.find('</a>')].strip()\n",
      "        jobs[i]['company'] = part[part.find(\"<strong>\")+8 : part.find(\"</strong>\")].strip()\n",
      "        part = part.split(\"Location\")[1]\n",
      "        #for location pattern is different\n",
      "        #if jobs[i]['title'] == 'Cloud Engineer':\n",
      "            #print(part)\n",
      "        a = part.find(\"/span>\")+6\n",
      "        b = part.find(\"<BR>\")\n",
      "        if b <= a:\n",
      "            b = part.find(\"</li>\")\n",
      "        jobs[i]['location'] = part[a : b].strip()\n",
      "            \n",
      "        #print title, location, company\n",
      "        part = part.split(\"jobDescription\")[-1]\n",
      "        dom = web.Element(part)\n",
      "        jd = ''\n",
      "        for lil_part in dom.by_tag(\"span\"):\n",
      "            x = lil_part.content\n",
      "            #print(x)\n",
      "            if x.find(\"<span\") >= 0:\n",
      "                #print(\"Inside @@@@@@@\")\n",
      "                continue\n",
      "            jd += x.strip()\n",
      "        jobs[i]['jd'] = jd.encode('ascii','ignore')\n",
      "     \n",
      "        job_page = part[part.find('/community/jobs/view/') : part.find('\">Link Directly to This Job')]\n",
      "        jobs[i]['job_page'] = \"https://www.openstack.org\"+job_page\n",
      "    return jobs\n",
      "    \n",
      "if __name__ == \"__main__\":\n",
      "    data = get_html(\"https://www.openstack.org/community/jobs/\")\n",
      "    i = 0\n",
      "    with open('openstack-job.csv', 'wa') as csvfile:\n",
      "        filewriter = csv.writer(csvfile, delimiter='\\t',\n",
      "                            quotechar='|', quoting=csv.QUOTE_MINIMAL)\n",
      "        filewriter.writerow(['Title', 'Company',  'Location', 'Job Description', 'Job Page'])\n",
      "        for job in data:\n",
      "            i += 1\n",
      "            if i == 20:\n",
      "                break\n",
      "            #print data[job]\n",
      "            filewriter.writerow([data[job]['title'], data[job]['company'], data[job]['location'],\n",
      "                                 data[job]['jd'], data[job]['job_page']])\n",
      "\n",
      "    print(\"Done!!!\")\n",
      "        "
     ],
     "language": "python",
     "metadata": {},
     "outputs": [
      {
       "ename": "IndexError",
       "evalue": "list index out of range",
       "output_type": "pyerr",
       "traceback": [
        "\u001b[1;31m---------------------------------------------------------------------------\u001b[0m\n\u001b[1;31mIndexError\u001b[0m                                Traceback (most recent call last)",
        "\u001b[1;32m<ipython-input-72-5ad31ca251aa>\u001b[0m in \u001b[0;36m<module>\u001b[1;34m()\u001b[0m\n\u001b[0;32m     50\u001b[0m \u001b[1;33m\u001b[0m\u001b[0m\n\u001b[0;32m     51\u001b[0m \u001b[1;32mif\u001b[0m \u001b[0m__name__\u001b[0m \u001b[1;33m==\u001b[0m \u001b[1;34m\"__main__\"\u001b[0m\u001b[1;33m:\u001b[0m\u001b[1;33m\u001b[0m\u001b[0m\n\u001b[1;32m---> 52\u001b[1;33m     \u001b[0mdata\u001b[0m \u001b[1;33m=\u001b[0m \u001b[0mget_html\u001b[0m\u001b[1;33m(\u001b[0m\u001b[1;34m\"https://www.openstack.org/community/jobs/\"\u001b[0m\u001b[1;33m)\u001b[0m\u001b[1;33m\u001b[0m\u001b[0m\n\u001b[0m\u001b[0;32m     53\u001b[0m     \u001b[0mi\u001b[0m \u001b[1;33m=\u001b[0m \u001b[1;36m0\u001b[0m\u001b[1;33m\u001b[0m\u001b[0m\n\u001b[0;32m     54\u001b[0m     \u001b[1;32mwith\u001b[0m \u001b[0mopen\u001b[0m\u001b[1;33m(\u001b[0m\u001b[1;34m'openstack-job.csv'\u001b[0m\u001b[1;33m,\u001b[0m \u001b[1;34m'wa'\u001b[0m\u001b[1;33m)\u001b[0m \u001b[1;32mas\u001b[0m \u001b[0mcsvfile\u001b[0m\u001b[1;33m:\u001b[0m\u001b[1;33m\u001b[0m\u001b[0m\n",
        "\u001b[1;32m<ipython-input-72-5ad31ca251aa>\u001b[0m in \u001b[0;36mget_html\u001b[1;34m(url)\u001b[0m\n\u001b[0;32m     22\u001b[0m         \u001b[0mjobs\u001b[0m\u001b[1;33m[\u001b[0m\u001b[0mi\u001b[0m\u001b[1;33m]\u001b[0m\u001b[1;33m[\u001b[0m\u001b[1;34m'title'\u001b[0m\u001b[1;33m]\u001b[0m \u001b[1;33m=\u001b[0m \u001b[0mpart\u001b[0m\u001b[1;33m[\u001b[0m\u001b[1;33m:\u001b[0m \u001b[0mpart\u001b[0m\u001b[1;33m.\u001b[0m\u001b[0mfind\u001b[0m\u001b[1;33m(\u001b[0m\u001b[1;34m'</a>'\u001b[0m\u001b[1;33m)\u001b[0m\u001b[1;33m]\u001b[0m\u001b[1;33m.\u001b[0m\u001b[0mstrip\u001b[0m\u001b[1;33m(\u001b[0m\u001b[1;33m)\u001b[0m\u001b[1;33m\u001b[0m\u001b[0m\n\u001b[0;32m     23\u001b[0m         \u001b[0mjobs\u001b[0m\u001b[1;33m[\u001b[0m\u001b[0mi\u001b[0m\u001b[1;33m]\u001b[0m\u001b[1;33m[\u001b[0m\u001b[1;34m'company'\u001b[0m\u001b[1;33m]\u001b[0m \u001b[1;33m=\u001b[0m \u001b[0mpart\u001b[0m\u001b[1;33m[\u001b[0m\u001b[0mpart\u001b[0m\u001b[1;33m.\u001b[0m\u001b[0mfind\u001b[0m\u001b[1;33m(\u001b[0m\u001b[1;34m\"<strong>\"\u001b[0m\u001b[1;33m)\u001b[0m\u001b[1;33m+\u001b[0m\u001b[1;36m8\u001b[0m \u001b[1;33m:\u001b[0m \u001b[0mpart\u001b[0m\u001b[1;33m.\u001b[0m\u001b[0mfind\u001b[0m\u001b[1;33m(\u001b[0m\u001b[1;34m\"</strong>\"\u001b[0m\u001b[1;33m)\u001b[0m\u001b[1;33m]\u001b[0m\u001b[1;33m.\u001b[0m\u001b[0mstrip\u001b[0m\u001b[1;33m(\u001b[0m\u001b[1;33m)\u001b[0m\u001b[1;33m\u001b[0m\u001b[0m\n\u001b[1;32m---> 24\u001b[1;33m         \u001b[0mpart\u001b[0m \u001b[1;33m=\u001b[0m \u001b[0mpart\u001b[0m\u001b[1;33m.\u001b[0m\u001b[0msplit\u001b[0m\u001b[1;33m(\u001b[0m\u001b[1;34m\"Location\"\u001b[0m\u001b[1;33m)\u001b[0m\u001b[1;33m[\u001b[0m\u001b[1;36m1\u001b[0m\u001b[1;33m]\u001b[0m\u001b[1;33m\u001b[0m\u001b[0m\n\u001b[0m\u001b[0;32m     25\u001b[0m         \u001b[1;31m#for location pattern is different\u001b[0m\u001b[1;33m\u001b[0m\u001b[1;33m\u001b[0m\u001b[0m\n\u001b[0;32m     26\u001b[0m         \u001b[1;31m#if jobs[i]['title'] == 'Cloud Engineer':\u001b[0m\u001b[1;33m\u001b[0m\u001b[1;33m\u001b[0m\u001b[0m\n",
        "\u001b[1;31mIndexError\u001b[0m: list index out of range"
       ]
      }
     ],
     "prompt_number": 72
    },
    {
     "cell_type": "code",
     "collapsed": false,
     "input": [],
     "language": "python",
     "metadata": {},
     "outputs": []
    }
   ],
   "metadata": {}
  }
 ]
}