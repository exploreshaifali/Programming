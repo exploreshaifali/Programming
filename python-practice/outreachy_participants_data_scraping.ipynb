{
 "metadata": {
  "name": "",
  "signature": "sha256:1f7a50eaa94f9eac7bd83899392cc8c3c6bfd4badd907552c0b6517aaf03bba1"
 },
 "nbformat": 3,
 "nbformat_minor": 0,
 "worksheets": [
  {
   "cells": [
    {
     "cell_type": "heading",
     "level": 2,
     "metadata": {},
     "source": [
      "Scraping [Outreachy Previous_Participants](https://wiki.gnome.org/Outreachy/#Previous_Participants) data"
     ]
    },
    {
     "cell_type": "code",
     "collapsed": false,
     "input": [
      "# pattern and beautifulsoup are for navigating through DOM\n",
      "from pattern import web\n",
      "\n",
      "import csv\n",
      "\n",
      "import re\n",
      "\n",
      "def get_urls(url):\n",
      "    \"\"\"Fetch all rounds' Accepted Participants' list\n",
      "       Returns dictonay.\n",
      "    \"\"\"\n",
      "    r = web.URL(url, method='GET')\n",
      "    html_doc = r.download()\n",
      "    \n",
      "    required_html = html_doc.split('id=\"Previous_Participants\"')[-1].split('id=\"Program_Details\"')[0]\n",
      "    dom = web.Element(required_html)\n",
      "    \n",
      "    round_link = {}\n",
      "    #loop through all li and get their links inside <a> tag\n",
      "    for li in dom.by_tag('li'):\n",
      "        round_name = li.by_tag('a')[0].content.encode('ascii','ignore')\n",
      "        #add 'https://wiki.gnome.org' before all links\n",
      "        link = 'https://wiki.gnome.org' + li.by_tag('a')[0].attributes.get('href', '').encode('ascii','ignore')\n",
      "        round_link[round_name] = link\n",
      "          \n",
      "    return round_link   \n",
      "\n",
      "def get_html(url):\n",
      "    \"\"\" Fetch the html code from given url\n",
      "        Returns pattern.web.Element\n",
      "    \"\"\"\n",
      "    html = web.URL(url, method='GET')\n",
      "    #print(type(html.download())) # str\n",
      "    html_doc = html.download()\n",
      "    \n",
      "    #Keeping html related to only accepted participants \n",
      "    mid = html_doc.split('h1 id=\"Accepted_Participants\"')\n",
      "    required_html = mid[-1].split('h1 id=\"Participating_Organizations\"')[0]\n",
      "    #@exploreshaifali: using regex here due to html of round 10 contains sample org and participants list\n",
      "    #which is not as real data pattern and create hassle \n",
      "    match = re.search('Congratulations to \\d+', required_html)\n",
      "    #at round 5 number of accepted participants is not mentioned, so if is mandatory\n",
      "    if match:\n",
      "        required_html = required_html[required_html.index(match.group()) : ]  \n",
      "    \n",
      "    dom = web.Element(required_html)\n",
      "    return dom\n",
      "\n",
      "def get_orgs(dom):\n",
      "    \"\"\"Get name of all participated orgs\n",
      "       Returns list\n",
      "    \"\"\"\n",
      "    \n",
      "    orgs = []\n",
      "    for org in dom.by_tag('h2'):\n",
      "        orgs.append(org.content.encode('ascii','ignore'))\n",
      "    return orgs\n",
      "\n",
      "def get_data(dom, orgs):\n",
      "    \n",
      "    org_list = {}\n",
      "    \n",
      "    #get org-wise coordinators\n",
      "    coordinators = []\n",
      "    for li, org in zip(dom.by_attr(style='list-style-type:none'), orgs):\n",
      "        org_list[org] = {'coordinator' : (li.content.split(\"<span \")[0].split(\":\")[-1]).encode('ascii','ignore')}\n",
      "    \n",
      "    #get org-wise mentees and their all details\n",
      "    mentees = {}\n",
      "    i = 0\n",
      "    for li in dom.by_tag('li'):\n",
      "        content = li.content\n",
      "        match = re.search('coordinator', content)\n",
      "        if match:\n",
      "            org = orgs[i]\n",
      "            i += 1\n",
      "        else:\n",
      "            #check for those mentee who don't have `link`\n",
      "            match = re.search('<a', content)\n",
      "            if match:\n",
      "                name = li.by_tag('a')[0].content.encode('ascii','ignore')\n",
      "                link = li.by_tag('a')[0].attributes.get('href', '').encode('ascii','ignore')\n",
      "                content = content.split('</a>')[-1]\n",
      "            else:\n",
      "                name = content[ : content.index('(')].encode('ascii','ignore')\n",
      "                link = ''\n",
      "           \n",
      "            #for those mentee who have not provided their nick\n",
      "            if content[1] == '(':\n",
      "                nick = content[content.index('(')+1 : content.index(')')].encode('ascii','ignore')\n",
      "            else:\n",
      "                nick = \"\"\n",
      "            content = content[content.index(',')+2 : ].split('<span')[0]\n",
      "            #print(content)\n",
      "            \n",
      "            #because some projects have ` - ` pattern in their name\n",
      "            #address, project, mentor = content.split(' - ')\n",
      "            a = content.find(' - ')\n",
      "            address = content[: a].encode('ascii','ignore')\n",
      "            b = content.rfind(' - ')\n",
      "            mentor = content[b+2 :].encode('ascii','ignore')\n",
      "            project = content[a+2 : b].encode('ascii','ignore')\n",
      "            \n",
      "            mentee = {'nick': nick, 'name': name, 'link':link, 'address':address, 'project':project, 'mentor':mentor}\n",
      "            org_list[org].setdefault('mentees', []).append(mentee)\n",
      "            \n",
      "    data = {}\n",
      "    for org in orgs:\n",
      "        for mentee in org_list[org]['mentees']:\n",
      "            data[org] = {mentee['name'], mentee['link'], mentee['nick'],\n",
      "                                     org, mentee['project'], mentee['address'], mentee['mentor'],\n",
      "                                     org_list[org]['coordinator']}\n",
      "            \n",
      "    return data\n",
      "    \n",
      "if __name__ == \"__main__\":\n",
      "    #step 1: get links of all rounds\n",
      "    all_urls = get_urls(\"https://wiki.gnome.org/Outreachy\")\n",
      "    print(\"Step 1 Done\")\n",
      "    all_participants = {}\n",
      "    #loop over all the urls/rounds and get data:\n",
      "    for round_n in all_urls:\n",
      "        #step 2: get orgs name of all rounds\n",
      "        dom = get_html(all_urls[round_n])\n",
      "        orgs = get_orgs(dom)\n",
      "        print(\"On Step 2 for \", round_n)\n",
      "        #step 3: get details of mentees and coordinators of all orgs for all rounds\n",
      "        all_participants[round_n] = get_data(dom, orgs)\n",
      "        print(\"On Step 3 for \", round_n)\n",
      "        #step 4: write in a csv file\n",
      "    # step - 4 Write whole data in a csv file\n",
      "    with open('All_outreachy_students1.csv', 'wa') as csvfile:\n",
      "        filewriter = csv.writer(csvfile, delimiter='\\t',\n",
      "                            quotechar='|', quoting=csv.QUOTE_MINIMAL)\n",
      "        filewriter.writerow(['Name', 'Link',  'Nick', 'Org', 'Project', 'Address', 'Mentor', 'Coordinators', 'Round'])\n",
      "        for round_n in all_participants:\n",
      "            for org in orgs:\n",
      "                for mentee in all_participants[round_n][org]['mentees']:\n",
      "                    filewriter.writerow([mentee['name'], mentee['link'], mentee['nick'],\n",
      "                                         org, mentee['project'], mentee['address'], mentee['mentor'],\n",
      "                                         org_list[org]['coordinator'], round_n])\n",
      "        print('Done!!')        \n",
      "    \n",
      "    "
     ],
     "language": "python",
     "metadata": {},
     "outputs": [
      {
       "output_type": "stream",
       "stream": "stdout",
       "text": [
        "Step 1 Done\n",
        "('On Step 2 for ', 'Round 10')"
       ]
      },
      {
       "output_type": "stream",
       "stream": "stdout",
       "text": [
        "\n",
        "('On Step 3 for ', 'Round 10')\n",
        "('On Step 2 for ', 'Round 9')"
       ]
      },
      {
       "output_type": "stream",
       "stream": "stdout",
       "text": [
        "\n",
        "('On Step 3 for ', 'Round 9')\n",
        "('On Step 2 for ', 'Round 8')"
       ]
      },
      {
       "output_type": "stream",
       "stream": "stdout",
       "text": [
        "\n",
        "('On Step 3 for ', 'Round 8')\n",
        "('On Step 2 for ', 'Round 7')"
       ]
      },
      {
       "output_type": "stream",
       "stream": "stdout",
       "text": [
        "\n",
        "('On Step 3 for ', 'Round 7')\n",
        "('On Step 2 for ', 'Round 6')"
       ]
      },
      {
       "output_type": "stream",
       "stream": "stdout",
       "text": [
        "\n",
        "('On Step 3 for ', 'Round 6')\n",
        "('On Step 2 for ', 'Round 5')"
       ]
      },
      {
       "output_type": "stream",
       "stream": "stdout",
       "text": [
        "\n"
       ]
      },
      {
       "ename": "UnboundLocalError",
       "evalue": "local variable 'org' referenced before assignment",
       "output_type": "pyerr",
       "traceback": [
        "\u001b[1;31m---------------------------------------------------------------------------\u001b[0m\n\u001b[1;31mUnboundLocalError\u001b[0m                         Traceback (most recent call last)",
        "\u001b[1;32m<ipython-input-1-2ff9b3423e43>\u001b[0m in \u001b[0;36m<module>\u001b[1;34m()\u001b[0m\n\u001b[0;32m    126\u001b[0m         \u001b[1;32mprint\u001b[0m\u001b[1;33m(\u001b[0m\u001b[1;34m\"On Step 2 for \"\u001b[0m\u001b[1;33m,\u001b[0m \u001b[0mround_n\u001b[0m\u001b[1;33m)\u001b[0m\u001b[1;33m\u001b[0m\u001b[0m\n\u001b[0;32m    127\u001b[0m         \u001b[1;31m#step 3: get details of mentees and coordinators of all orgs for all rounds\u001b[0m\u001b[1;33m\u001b[0m\u001b[1;33m\u001b[0m\u001b[0m\n\u001b[1;32m--> 128\u001b[1;33m         \u001b[0mall_participants\u001b[0m\u001b[1;33m[\u001b[0m\u001b[0mround_n\u001b[0m\u001b[1;33m]\u001b[0m \u001b[1;33m=\u001b[0m \u001b[0mget_data\u001b[0m\u001b[1;33m(\u001b[0m\u001b[0mdom\u001b[0m\u001b[1;33m,\u001b[0m \u001b[0morgs\u001b[0m\u001b[1;33m)\u001b[0m\u001b[1;33m\u001b[0m\u001b[0m\n\u001b[0m\u001b[0;32m    129\u001b[0m         \u001b[1;32mprint\u001b[0m\u001b[1;33m(\u001b[0m\u001b[1;34m\"On Step 3 for \"\u001b[0m\u001b[1;33m,\u001b[0m \u001b[0mround_n\u001b[0m\u001b[1;33m)\u001b[0m\u001b[1;33m\u001b[0m\u001b[0m\n\u001b[0;32m    130\u001b[0m         \u001b[1;31m#step 4: write in a csv file\u001b[0m\u001b[1;33m\u001b[0m\u001b[1;33m\u001b[0m\u001b[0m\n",
        "\u001b[1;32m<ipython-input-1-2ff9b3423e43>\u001b[0m in \u001b[0;36mget_data\u001b[1;34m(dom, orgs)\u001b[0m\n\u001b[0;32m    103\u001b[0m \u001b[1;33m\u001b[0m\u001b[0m\n\u001b[0;32m    104\u001b[0m             \u001b[0mmentee\u001b[0m \u001b[1;33m=\u001b[0m \u001b[1;33m{\u001b[0m\u001b[1;34m'nick'\u001b[0m\u001b[1;33m:\u001b[0m \u001b[0mnick\u001b[0m\u001b[1;33m,\u001b[0m \u001b[1;34m'name'\u001b[0m\u001b[1;33m:\u001b[0m \u001b[0mname\u001b[0m\u001b[1;33m,\u001b[0m \u001b[1;34m'link'\u001b[0m\u001b[1;33m:\u001b[0m\u001b[0mlink\u001b[0m\u001b[1;33m,\u001b[0m \u001b[1;34m'address'\u001b[0m\u001b[1;33m:\u001b[0m\u001b[0maddress\u001b[0m\u001b[1;33m,\u001b[0m \u001b[1;34m'project'\u001b[0m\u001b[1;33m:\u001b[0m\u001b[0mproject\u001b[0m\u001b[1;33m,\u001b[0m \u001b[1;34m'mentor'\u001b[0m\u001b[1;33m:\u001b[0m\u001b[0mmentor\u001b[0m\u001b[1;33m}\u001b[0m\u001b[1;33m\u001b[0m\u001b[0m\n\u001b[1;32m--> 105\u001b[1;33m             \u001b[0morg_list\u001b[0m\u001b[1;33m[\u001b[0m\u001b[0morg\u001b[0m\u001b[1;33m]\u001b[0m\u001b[1;33m.\u001b[0m\u001b[0msetdefault\u001b[0m\u001b[1;33m(\u001b[0m\u001b[1;34m'mentees'\u001b[0m\u001b[1;33m,\u001b[0m \u001b[1;33m[\u001b[0m\u001b[1;33m]\u001b[0m\u001b[1;33m)\u001b[0m\u001b[1;33m.\u001b[0m\u001b[0mappend\u001b[0m\u001b[1;33m(\u001b[0m\u001b[0mmentee\u001b[0m\u001b[1;33m)\u001b[0m\u001b[1;33m\u001b[0m\u001b[0m\n\u001b[0m\u001b[0;32m    106\u001b[0m \u001b[1;33m\u001b[0m\u001b[0m\n\u001b[0;32m    107\u001b[0m     \u001b[0mdata\u001b[0m \u001b[1;33m=\u001b[0m \u001b[1;33m{\u001b[0m\u001b[1;33m}\u001b[0m\u001b[1;33m\u001b[0m\u001b[0m\n",
        "\u001b[1;31mUnboundLocalError\u001b[0m: local variable 'org' referenced before assignment"
       ]
      }
     ],
     "prompt_number": 1
    },
    {
     "cell_type": "code",
     "collapsed": false,
     "input": [],
     "language": "python",
     "metadata": {},
     "outputs": []
    }
   ],
   "metadata": {}
  }
 ]
}