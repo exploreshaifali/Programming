{
 "metadata": {
  "name": "",
  "signature": "sha256:d6987c976d68f178b3843c52579fb4b7a45e49ea2a2abce6ce354011b1d34687"
 },
 "nbformat": 3,
 "nbformat_minor": 0,
 "worksheets": [
  {
   "cells": [
    {
     "cell_type": "heading",
     "level": 1,
     "metadata": {},
     "source": [
      "Scraping [Outreachy Previous_Participants](https://wiki.gnome.org/Outreachy/#Previous_Participants) data"
     ]
    },
    {
     "cell_type": "code",
     "collapsed": false,
     "input": [
      "# requests is for downloading data(text) from the web.\n",
      "import requests\n",
      "\n",
      "# pattern and beautifulsoup are for navigating through DOM\n",
      "from pattern import web\n",
      "\n",
      "import csv\n",
      "\n",
      "import re\n",
      "\n",
      "def get_html(url):\n",
      "    \"\"\" Fetch the html code from given url\n",
      "        Returns pattern.web.Element\n",
      "    \"\"\"\n",
      "    html = web.URL(url, method='GET')\n",
      "    #print(type(html.download())) # str\n",
      "    html_doc = html.download()\n",
      "    \n",
      "    #Keeping html related to only accepted participants \n",
      "    mid = html_doc.split('h1 id=\"Accepted_Participants\"')\n",
      "    requred_html = mid[-1].split('h1 id=\"Participating_Organizations\"')[0]\n",
      "    \n",
      "    dom = web.Element(requred_html)\n",
      "    return dom\n",
      "\n",
      "def get_orgs(dom):\n",
      "    \"\"\"Get name of all participated orgs\n",
      "       Returns list\n",
      "    \"\"\"\n",
      "    \n",
      "    orgs = []\n",
      "    for org in dom.by_tag('h2'):\n",
      "        orgs.append(org.content.encode('ascii','ignore'))\n",
      "    return orgs\n",
      "\n",
      "def get_data(dom, orgs)\n",
      "    \n",
      "    org_list = {}\n",
      "    \n",
      "    #get org-wise coordinators\n",
      "    coordinators = []\n",
      "    for li, org in zip(dom.by_attr(style='list-style-type:none'), orgs):\n",
      "        org_list[org] = {'coordinator' : (li.content.split(\"<span \")[0].split(\":\")[-1]).encode('ascii','ignore')}\n",
      "    \n",
      "    #get org-wise mentees and their all details\n",
      "    mentees = {}\n",
      "    i = 0\n",
      "    for li in dom.by_tag('li'):\n",
      "        content = li.content\n",
      "        match = re.search('coordinator', content)\n",
      "        if match:\n",
      "            org = orgs[i]\n",
      "            i += 1\n",
      "        else:\n",
      "            #check for those mentee who don't have `link`\n",
      "            match = re.search('<a', content)\n",
      "            if match:\n",
      "                name = li.by_tag('a')[0].content.encode('ascii','ignore')\n",
      "                link = li.by_tag('a')[0].attributes.get('href', '').encode('ascii','ignore')\n",
      "                content = content.split('</a>')[-1]\n",
      "            else:\n",
      "                name = content[ : content.index('(')].encode('ascii','ignore')\n",
      "                link = ''\n",
      "           \n",
      "            #for those mentee who have not provided their nick\n",
      "            if content[1] == '(':\n",
      "                nick = content[content.index('(')+1 : content.index(')')].encode('ascii','ignore')\n",
      "            else:\n",
      "                nick = \"\"\n",
      "            content = content[content.index(',')+2 : ].split('<span')[0]\n",
      "            #print(content)\n",
      "            \n",
      "            #because some projects have ` - ` pattern in their name\n",
      "            #address, project, mentor = content.split(' - ')\n",
      "            a = content.find(' - ')\n",
      "            address = content[: a].encode('ascii','ignore')\n",
      "            b = content.rfind(' - ')\n",
      "            mentor = content[b+2 :].encode('ascii','ignore')\n",
      "            project = content[a+2 : b].encode('ascii','ignore')\n",
      "            \n",
      "            mentee = {'nick': nick, 'name': name, 'link':link, 'address':address, 'project':project, 'mentor':mentor}\n",
      "            org_list[org].setdefault('mentees', []).append(mentee)\n",
      "            \n",
      "    # step - 4 Write whole data in a csv file\n",
      "    with open('outreachy_students', 'w') as csvfile:\n",
      "        filewriter = csv.writer(csvfile, delimiter='\\t',\n",
      "                            quotechar='|', quoting=csv.QUOTE_MINIMAL)\n",
      "        filewriter.writerow(['Name', 'Link',  'Nick', 'Org', 'Project', 'Address', 'Mentor', 'Coordinators'])\n",
      "        for org in orgs:\n",
      "            for mentee in org_list[org]['mentees']:\n",
      "                filewriter.writerow([mentee['name'], mentee['link'], mentee['nick'],\n",
      "                                     org, mentee['project'], mentee['address'], mentee['mentor'],\n",
      "                                     org_list[org]['coordinator']])\n",
      "        print('Done!!')\n",
      "            \n",
      "    #for \n",
      "    print(org_list)\n",
      "    \n",
      "get_html(\"https://wiki.gnome.org/OutreachProgramForWomen/2014/DecemberMarch#Accepted_Participants\")    "
     ],
     "language": "python",
     "metadata": {},
     "outputs": [
      {
       "output_type": "stream",
       "stream": "stdout",
       "text": [
        "<class 'pattern.web.Element'>\n",
        "Done!!\n",
        "{'Evergreen': {'coordinator': ' Kathy Lussier ', 'mentees': [{'name': 'Julia Lima', 'project': ' UI Style Guide', 'nick': 'julialima', 'link': 'http://lima-julia.tumblr.com', 'mentor': ' Dan Wells and Grace Dunbar ', 'address': 'Villa Carlos Paz, Cordoba, Argentina'}]}, 'Foreman': {'coordinator': ' Daniel Lobato Garcia ', 'mentees': [{'name': 'Vanya Jauhal', 'project': ' Puppet Forge and Foreman', 'nick': 'vanya', 'link': 'https://vanyajaual.wordpress.com/', 'mentor': ' Daniel Lobato Garcia ', 'address': 'Hyderabad, Andhra Pradesh, India'}]}, 'GNOME': {'coordinator': ' Marina Zhurakhinskaya ', 'mentees': [{'name': 'Sanskriti Dawle', 'project': ' Usability Testing', 'nick': 'CultureD', 'link': 'http://sanskritidawle.wordpress.com/', 'mentor': ' Jim Hall ', 'address': 'Sancoale, Goa, India'}, {'name': 'Jody Hansen', 'project': ' Optimizing GNOME Keysign', 'nick': 'jody', 'link': 'http://jobediah.blogspot.com', 'mentor': ' Tobias Mueller ', 'address': 'Salt Lake City, UT, USA'}, {'name': 'Maia Remez McCormick', 'project': ' Smart Playlists in GNOME Music', 'nick': 'maiamcc', 'link': 'http://code.maiamccormick.com/', 'mentor': ' Vadim Rutkovsky ', 'address': 'New York, NY, USA'}]}, 'Mesos': {'coordinator': ' Chris Aniszczyk ', 'mentees': [{'name': 'Evelina Andreia Dumitrescu', 'project': ' IPv6 support', 'nick': 'evelina', 'link': 'https://evelinadumitrescu.wordpress.com/', 'mentor': ' Dominic Hamon ', 'address': 'Bucharest, Romania'}]}, 'Xen Project': {'coordinator': ' Lars Kurth and Russell Pavlicek ', 'mentees': [{'name': 'Uma Sharma', 'project': ' Advanced Scheduling Parameters', 'nick': 'uma', 'link': 'http://umasharma17.wordpress.com/', 'mentor': ' George Dunlap ', 'address': 'Allahabad, Uttar Pradesh, India'}]}, 'Wikimedia': {'coordinator': ' Quim Gil ', 'mentees': [{'name': 'Priyanka Jayaswal', 'project': '', 'nick': 'prijaya', 'link': 'https://priyashata.wordpress.com/', 'mentor': ' Amir Sarabadani and John Mark Vandenberg ', 'address': ' Kharagpur, West Bengal, India - Pywikibot: Compat to core Migration'}, {'name': '<p class=\"line862\">Manpreet Kaur ', 'project': ' Extend Pywikibot support to all sites listed on InterWiki Map and add support for a wiki engine', 'nick': '', 'link': '', 'mentor': ' John Mark Vandenberg and Fabian Neundorf ', 'address': 'Sancoale, Goa, India'}, {'name': 'Neta Livneh', 'project': ' Wikipedia article translation metrics', 'nick': 'Livnetata', 'link': 'https://dataspongy.wordpress.com', 'mentor': ' Amir E. Aharoni ', 'address': 'Jerusalem, Israel'}, {'name': 'Roxana Necula', 'project': ' Wikipedia article translation metrics', 'nick': 'tuxilina', 'link': 'http://www.tuxilina.com', 'mentor': ' Amir E. Aharoni ', 'address': ' Bucharest, Romania'}, {'name': 'Anke Nowottne', 'project': ' Wikipedia Education Program need-finding research', 'nick': 'anow', 'link': 'https://sputniza.wordpress.com/', 'mentor': ' Sage Ross and Andrew Russell Green ', 'address': 'Berlin, Germany'}, {'name': 'E.Christy Okpo ', 'project': ' Wikimedia Performance Portal', 'nick': '', 'link': '', 'mentor': ' Quim Gil ', 'address': 'Red Deer, Alberta, Canada'}, {'name': 'Ankita Shukla', 'project': ' Collaborative spelling dictionary building tool', 'nick': 'ankita', 'link': 'http://ankitashukla707.wordpress.com/', 'mentor': ' Kartik Mistry ', 'address': 'Roorkee, Uttarakhand, India'}]}, 'Mozilla': {'coordinator': ' Christie Koehler ', 'mentees': [{'name': 'Lisa Hewus Fresh', 'project': ' Air Mozilla Web Design and Development', 'nick': '', 'link': 'http://lisa.hewus.com', 'mentor': ' Peter Bengtsson ', 'address': 'OR, USA'}, {'name': 'Tessy Joseph', 'project': ' One and Done', 'nick': 'tessy', 'link': 'https://tessjohn.wordpress.com', 'mentor': ' Rebecca Billings ', 'address': 'Kerala, India'}, {'name': 'Barbara Miller', 'project': ' QA/Automation', 'nick': 'galgeek', 'link': 'http://galgeek.com', 'mentor': ' Henrik Skupin  ', 'address': 'Portland, OR, USA'}, {'name': 'Adam Okoye', 'project': ' SUMO/Input Web Design and Development', 'nick': 'aokoye', 'link': 'http://www.adamokoye.com', 'mentor': ' Will Kahn-Greene ', 'address': 'Portland, OR, USA'}]}, 'X.Org': {'coordinator': ' Peter Hutterer ', 'mentees': [{'name': 'Asal Mirzaeva', 'project': ' Server-side XCB', 'nick': 'AsalleKim', 'link': 'http://meincodekraft.blogspot.com/', 'mentor': ' Christian Linhart ', 'address': 'Odesa, Ukraine'}]}, 'Perl': {'coordinator': ' Karen Pauley ', 'mentees': [{'name': 'Rose Ames', 'project': ' MetaCPAN: Improve Search', 'nick': 'superluser, riveter', 'link': 'http://rose.github.io', 'mentor': ' Olaf Alders ', 'address': 'riveter), Killaloe, Ontario, Canada'}, {'name': 'Snigdha Dagar', 'project': ' Dancer Documentation Overhaul', 'nick': '', 'link': '', 'mentor': ' Sawyer X ', 'address': 'Hyderabad, Andhra Pradesh, India'}, {'name': 'Andreea Monica Pirvulescu', 'project': ' MetaCPAN: Improve Search', 'nick': 'andreeap', 'link': 'http://andreeapirvulescu.wordpress.com/', 'mentor': ' Olaf Alders ', 'address': 'Bucharest, Romania'}]}, 'Linux kernel': {'coordinator': ' Sarah Sharp ', 'mentees': [{'name': 'Ebru Akagunduz', 'project': ' Khugepaged swap readahead', 'nick': 'ebru', 'link': 'http://www.ebruakagunduz.com', 'mentor': ' Rik van Riel ', 'address': 'stanbul, Turkey'}, {'name': 'Roberta Dobrescu', 'project': ' IIO staging drivers cleanup', 'nick': 'roberta', 'link': 'http://iiobits.wordpress.com/', 'mentor': ' Daniel Baluta and  Octavian Purdila ', 'address': 'Bucharest, Romania'}, {'name': 'Iulia Manda', 'project': ' Kernel tinification', 'nick': 'iuliam', 'link': 'https://iuliamanda21.wordpress.com/', 'mentor': ' Josh Triplett  ', 'address': 'Bucharest, Romania'}, {'name': 'Tapasweni Pathak', 'project': ' Coccinelle', 'nick': '', 'link': 'http://tapaswenipathak.wordpress.com', 'mentor': ' Julia Lawall and Nicolas Palix ', 'address': 'Dehli, India'}, {'name': 'Tina Ruchandani', 'project': ' 2038 32-bit time issues', 'nick': 'tinar', 'link': 'https://tinaruchandani.wordpress.com/', 'mentor': ' Arnd Bergmann ', 'address': 'Vadodara, Gujarat, India'}]}, 'Open Source Robotics Foundation': {'coordinator': ' Carlos Agero and Tully Foote ', 'mentees': [{'name': 'Rachel Hwang', 'project': ' Gazebo - Path Planner', 'nick': 'rahwang', 'link': 'https://rahwang.wordpress.com', 'mentor': ' Jose Luis Rivero ', 'address': 'Philadelphia, PA, USA'}]}, 'OpenStreetMap (via HOT)': {'coordinator': ' Kate Chapman ', 'mentees': [{'name': 'Nitika Agarwal', 'project': ' Improving the Humanitarian OpenStreetMap Tasking Manager homepage', 'nick': 'nitika', 'link': 'http://nitika-opw2014.blogspot.com/', 'mentor': ' Kate Chapman and Pierre Giraud ', 'address': 'New Delhi, Delhi, India'}, {'name': 'Jessica Marlene Canepa', 'project': ' Improving User Access &amp; Usability of Humanitarian OpenStreetMap tools', 'nick': 'Canepa', 'link': 'http://jmarlena.github.io/', 'mentor': ' Kate Chapman ', 'address': 'Portland, OR, USA'}]}, 'OpenStack': {'coordinator': ' Anne Gentle, Stefano Maffulli, and Julie Pichon ', 'mentees': [{'name': 'Shaifali Agrawal', 'project': ' Zaqar: Split Data and Control Plane', 'nick': 'exploreshaifali', 'link': 'http://shaifaliagrawal.wordpress.com/', 'mentor': ' Flavio Percoco ', 'address': 'Indore, Madhya Pradesh, India'}, {'name': 'Tahmina Ahmed', 'project': ' Implementation of Attribute and Graph Based Access Control Model (AGBAC)', 'nick': 'Tahmina', 'link': 'http://www.cs.utsa.edu/~tahmed', 'mentor': ' Henry Nash ', 'address': 'San Antonio, TX, USA'}, {'name': 'Mahati Chamarthy', 'project': ' Swift - storage server OPTIONS support and checker tool', 'nick': 'mahatic', 'link': 'http://mahatic.com', 'mentor': ' John Dickinson ', 'address': 'Bangalore, Karnataka, India'}, {'name': 'Nelly Kuznetsova', 'project': ' Ceilometer', 'nick': 'nellysmitt', 'link': 'http://smittnelly.blogspot.ru', 'mentor': ' Dina Belova ', 'address': 'Voronezh, Russia / Lier, Belgium'}, {'name': 'Anna Philips', 'project': ' Trove - DB Instance Log Operation', 'nick': 'X019', 'link': 'http://annaphilips.com', 'mentor': ' Iccha Sethi ', 'address': 'Tamil Nadu, India'}, {'name': 'Alice Rice', 'project': ' Redesign for the Containers section in Object Storage panel of the Horizon dashboard', 'nick': 'aliceR', 'link': 'http://openux.tumblr.com', 'mentor': ' Ju Lim ', 'address': 'San Francisco, CA, USA'}]}, 'oVirt': {'coordinator': ' Brian Proffitt ', 'mentees': [{'name': 'Sphoorti Joglekar', 'project': ' Enhancements to moVirt', 'nick': 'sphoorti', 'link': 'http://sphoorti.github.io/blog/', 'mentor': ' Tomas Jelinek ', 'address': 'Pune, Maharashtra, India'}, {'name': 'Jenny Kang', 'project': ' Mobile-friendly web dashboard', 'nick': 'jenny_', 'link': 'https://medium.com/@jennykang_', 'mentor': ' Greg Sheremeta ', 'address': 'Hong Kong'}]}, 'Debian': {'coordinator': ' Tom Marble and Nicolas Dandrimont ', 'mentees': [{'name': 'Jingjie Jiang', 'project': ' Debsources improvements', 'nick': 'sophiejjj', 'link': 'http://sophiejjj.wordpress.com/', 'mentor': ' Stefano Zacchiroli and Matthieu Caneill ', 'address': 'Hong Kong'}, {'name': 'Virginia King', 'project': '  Writing and Improving Debbugs Documentation', 'nick': 'pindy', 'link': 'https://misspindy.org', 'mentor': ' Don Armstrong ', 'address': 'Melbourne, Australia'}, {'name': 'Ulrike Uhlig', 'project': ' Improve AppArmor support', 'nick': 'MoC', 'link': 'http://apparmor.451f.org/', 'mentor': ' Holger Levsen and intrigeri ', 'address': 'Paris, France'}]}, 'FFmpeg': {'coordinator': ' Reynaldo Verdejo, Michael Niedermayer, and Stefano Sabatini ', 'mentees': [{'name': 'Arwa Arif ', 'project': ' xBR Filter', 'nick': '', 'link': '', 'mentor': ' Clment Bsch and Stefano Sabatini ', 'address': 'Hyderabad, Andhra Pradesh, India'}, {'name': 'Supraja Meedinti', 'project': ' Symmetric-key block ciphers', 'nick': 'myra', 'link': 'https://suprajameedinti.wordpress.com/', 'mentor': ' Giorgio Vazzana, Reynaldo Verdejo, and Michael Niedermayer ', 'address': ' Hyderabad, Andhra Pradesh, India'}, {'name': 'Eejya Singh', 'project': ' Improving current Subtitle support in FFmpeg and Adding Subtitle Rendering', 'nick': 'akira4', 'link': 'http://opwinternshipeejya.blogspot.com/', 'mentor': ' Clment Bsch and Stefano Sabatini ', 'address': 'Sancoale, Goa, India'}]}}\n"
       ]
      }
     ],
     "prompt_number": 16
    },
    {
     "cell_type": "code",
     "collapsed": false,
     "input": [
      "from bs4 import BeautifulSoup\n",
      "\n",
      "# requests is for downloading data(text) from the web.\n",
      "import requests\n",
      "\n",
      "# pattern and beautifulsoup are for navigating through DOM\n",
      "# from pattern import web\n",
      "\n",
      "\n",
      "def get_html(url):\n",
      "    r = requests.get(url)\n",
      "    html_doc = r.text\n",
      "    soup = BeautifulSoup(html_doc, 'html.parser')\n",
      "    #print(soup.prettify())\n",
      "    print(type(soup))\n",
      "    #a_list = soup.find_all('a')\n",
      "    #for a in a_list: print(a)\n",
      "    \n",
      "    # making get request to the given url\n",
      "    r = requests.get(url)\n",
      "    html = r.text\n",
      "    print(type(str(html)))\n",
      "    \n",
      "    \n",
      "get_html(\"https://wiki.gnome.org/OutreachProgramForWomen/2014/DecemberMarch#Accepted_Participants\")    "
     ],
     "language": "python",
     "metadata": {},
     "outputs": [
      {
       "output_type": "stream",
       "stream": "stdout",
       "text": [
        "<class 'bs4.BeautifulSoup'>\n"
       ]
      },
      {
       "ename": "UnicodeEncodeError",
       "evalue": "'ascii' codec can't encode character u'\\xe9' in position 11711: ordinal not in range(128)",
       "output_type": "pyerr",
       "traceback": [
        "\u001b[1;31m---------------------------------------------------------------------------\u001b[0m\n\u001b[1;31mUnicodeEncodeError\u001b[0m                        Traceback (most recent call last)",
        "\u001b[1;32m<ipython-input-37-e1e6d3bc8765>\u001b[0m in \u001b[0;36m<module>\u001b[1;34m()\u001b[0m\n\u001b[0;32m     23\u001b[0m \u001b[1;33m\u001b[0m\u001b[0m\n\u001b[0;32m     24\u001b[0m \u001b[1;33m\u001b[0m\u001b[0m\n\u001b[1;32m---> 25\u001b[1;33m \u001b[0mget_html\u001b[0m\u001b[1;33m(\u001b[0m\u001b[1;34m\"https://wiki.gnome.org/OutreachProgramForWomen/2014/DecemberMarch#Accepted_Participants\"\u001b[0m\u001b[1;33m)\u001b[0m\u001b[1;33m\u001b[0m\u001b[0m\n\u001b[0m",
        "\u001b[1;32m<ipython-input-37-e1e6d3bc8765>\u001b[0m in \u001b[0;36mget_html\u001b[1;34m(url)\u001b[0m\n\u001b[0;32m     20\u001b[0m     \u001b[0mr\u001b[0m \u001b[1;33m=\u001b[0m \u001b[0mrequests\u001b[0m\u001b[1;33m.\u001b[0m\u001b[0mget\u001b[0m\u001b[1;33m(\u001b[0m\u001b[0murl\u001b[0m\u001b[1;33m)\u001b[0m\u001b[1;33m\u001b[0m\u001b[0m\n\u001b[0;32m     21\u001b[0m     \u001b[0mhtml\u001b[0m \u001b[1;33m=\u001b[0m \u001b[0mr\u001b[0m\u001b[1;33m.\u001b[0m\u001b[0mtext\u001b[0m\u001b[1;33m\u001b[0m\u001b[0m\n\u001b[1;32m---> 22\u001b[1;33m     \u001b[1;32mprint\u001b[0m\u001b[1;33m(\u001b[0m\u001b[0mtype\u001b[0m\u001b[1;33m(\u001b[0m\u001b[0mstr\u001b[0m\u001b[1;33m(\u001b[0m\u001b[0mhtml\u001b[0m\u001b[1;33m)\u001b[0m\u001b[1;33m)\u001b[0m\u001b[1;33m)\u001b[0m\u001b[1;33m\u001b[0m\u001b[0m\n\u001b[0m\u001b[0;32m     23\u001b[0m \u001b[1;33m\u001b[0m\u001b[0m\n\u001b[0;32m     24\u001b[0m \u001b[1;33m\u001b[0m\u001b[0m\n",
        "\u001b[1;31mUnicodeEncodeError\u001b[0m: 'ascii' codec can't encode character u'\\xe9' in position 11711: ordinal not in range(128)"
       ]
      }
     ],
     "prompt_number": 37
    },
    {
     "cell_type": "raw",
     "metadata": {},
     "source": []
    },
    {
     "cell_type": "code",
     "collapsed": false,
     "input": [],
     "language": "python",
     "metadata": {},
     "outputs": []
    }
   ],
   "metadata": {}
  }
 ]
}