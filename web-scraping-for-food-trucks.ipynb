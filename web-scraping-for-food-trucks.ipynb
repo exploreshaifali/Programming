{
 "metadata": {
  "name": "",
  "signature": "sha256:716b6c862d7946a28b4055ad70780d5f39fb55ca0ac0baf106ba3b52d8b5c01f"
 },
 "nbformat": 3,
 "nbformat_minor": 0,
 "worksheets": [
  {
   "cells": [
    {
     "cell_type": "markdown",
     "metadata": {},
     "source": [
      "# Web Scraping\n",
      "It is just a way of getting data from web.\n",
      "\n",
      "There are following ways how we can collect data:\n",
      "* Direct Download\n",
      "* Using API\n",
      "* Gathering from web pages\n",
      "\n",
      "The third one above is web scraping. It simply means to writing the scripts(may be python scripts) to grab the data from web pages. It is more fun than direct download.\n",
      "\n",
      "Many different Python libraries are available for web Scraping. I used *[pattern](https://pypi.python.org/pypi/Pattern)* and [requests](http://docs.python-requests.org/en/latest/) here. BeautifilSoup, [Scrapy](http://scrapy.org/) are other libraries for same purpose."
     ]
    },
    {
     "cell_type": "heading",
     "level": 6,
     "metadata": {},
     "source": [
      "Web Scraping for finding list of all food trucks and their details"
     ]
    },
    {
     "cell_type": "code",
     "collapsed": false,
     "input": [
      "\n",
      "# function 3\n",
      "def get_food_truck_link(url):\n",
      "    '''for a given food truck link inside the main_url find the real\n",
      "    link of food truck and return'''\n",
      "    \n",
      "# function 1\n",
      "def get_city_url(url):\n",
      "\t'''To fetch and return the dictonary of all cities and \n",
      "\ttheir id present on main page.'''\n",
      "\t\n",
      "# function 2\n",
      "def get_food_trucks(url):\n",
      "\t'''For a given city url find all food trucks present on the \n",
      "\tpage of that city'''\n",
      "\t\n",
      "if __name__ == \"__main__\":\n",
      "\turl = 'http://roaminghunger.com/'\n",
      "\tcity_food_trucks = {}\n",
      "\t# Now for each of these cities find food-truck\n",
      "\t"
     ],
     "language": "python",
     "metadata": {},
     "outputs": []
    }
   ],
   "metadata": {}
  }
 ]
}